{
 "cells": [
  {
   "cell_type": "code",
   "execution_count": 31,
   "metadata": {},
   "outputs": [],
   "source": [
    "import hls4ml\n",
    "import onnxruntime as ort\n",
    "import onnx\n",
    "import plotting"
   ]
  },
  {
   "cell_type": "code",
   "execution_count": 53,
   "metadata": {},
   "outputs": [],
   "source": [
    "TARGET_FPGA_DEVICE = \"XCZU7EV-2FFVC1156\"\n",
    "ONNX_PATH = \"onnx/tooth.onnx\"\n",
    "model = onnx.load(ONNX_PATH)\n",
    "onnx.checker.check_model(model)"
   ]
  },
  {
   "cell_type": "code",
   "execution_count": 54,
   "metadata": {},
   "outputs": [
    {
     "name": "stdout",
     "output_type": "stream",
     "text": [
      "Model\n",
      "  Precision:         ap_fixed<16,6>\n",
      "  ReuseFactor:       1\n",
      "  Strategy:          Latency\n",
      "\n",
      " Model {'Precision': 'ap_fixed<16,6>', 'ReuseFactor': 1, 'Strategy': 'Latency'} \n",
      "\n"
     ]
    }
   ],
   "source": [
    "# First, the baseline model\n",
    "hls_config = hls4ml.utils.config_from_onnx_model(model, granularity='name')\n",
    "\n",
    "# Set the precision and reuse factor for the full model\n",
    "hls_config['Model']['Precision'] = 'ap_fixed<16,6>'\n",
    "hls_config['Model']['ReuseFactor'] = 1\n",
    "\n",
    "for Layer in hls_config['LayerName'].keys():\n",
    "  hls_config['LayerName'][Layer]['Strategy'] = 'Latency'\n",
    "  hls_config['LayerName'][Layer]['ReuseFactor'] = 1\n",
    "hls_config['LayerName']['output_softmax']['Strategy'] = 'Stable'\n",
    "plotting.print_dict(hls_config)\n",
    "for k in hls_config:\n",
    "  print('\\n',k,hls_config[k],'\\n')"
   ]
  },
  {
   "cell_type": "code",
   "execution_count": null,
   "metadata": {},
   "outputs": [],
   "source": [
    "import json\n",
    "print(json.dumps(hls_config, indent = 4)) #chipSkywalker 2024.07.04 to fix no attribute print_dict error\n",
    "\n",
    "#cfg = hls4ml.converters.create_config(backend='Vivado')\n",
    "cfg = hls4ml.converters.create_config(backend='Vitis')  # chipSkywalker modified to use Vitis HLS\n",
    "cfg['IOType'] = 'io_stream'  # Must set this if using CNNs!\n",
    "cfg['HLSConfig'] = hls_config\n",
    "cfg['OnnxModel'] = model\n",
    "cfg['OutputDir'] = 'yolo/'\n",
    "cfg['Part'] = TARGET_FPGA_DEVICE   # chipSkywalker use Target Device set at beginning\n",
    "#cfg['XilinxPart'] = TARGET_FPGA_DEVICE   \n",
    "#cfg['XilinxPart'] = 'xcu250-figd2104-2L-e'  \n",
    "hls_model = hls4ml.converters.onnx_to_hls(cfg) ## Unsupported operation type: QuantizeLinear\n",
    "hls_model.compile()"
   ]
  }
 ],
 "metadata": {
  "kernelspec": {
   "display_name": "YOLOv8_env",
   "language": "python",
   "name": "python3"
  },
  "language_info": {
   "codemirror_mode": {
    "name": "ipython",
    "version": 3
   },
   "file_extension": ".py",
   "mimetype": "text/x-python",
   "name": "python",
   "nbconvert_exporter": "python",
   "pygments_lexer": "ipython3",
   "version": "3.9.19"
  }
 },
 "nbformat": 4,
 "nbformat_minor": 2
}
