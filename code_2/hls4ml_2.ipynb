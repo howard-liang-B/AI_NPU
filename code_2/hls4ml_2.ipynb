{
 "cells": [
  {
   "cell_type": "code",
   "execution_count": 1,
   "metadata": {},
   "outputs": [],
   "source": [
    "import qonnx\n",
    "import onnx\n",
    "from qonnx.core.modelwrapper import ModelWrapper\n",
    "import hls4ml\n",
    "from qonnx.transformation.channels_last import ConvertToChannelsLastAndClean\n",
    "from qonnx.transformation.gemm_to_matmul import GemmToMatMul\n",
    "from qonnx.util.cleanup import cleanup_model\n",
    "import plotting"
   ]
  },
  {
   "cell_type": "code",
   "execution_count": 2,
   "metadata": {},
   "outputs": [],
   "source": [
    "ONNX_PATH = r\"onnx/Alexnet_quant_model_qonnx.onnx\"\n",
    "ONNX_PATH_NEW = r\"onnx\\prun0.75_static_quantized_model_new.onnx\"\n",
    "ONNX_PATH_CLEAN = r\"onnx\\prun0.75_static_quantized_model_clean_v2.onnx\"\n",
    "TARGET_FPGA_DEVICE = \"XCZU7EV-2FFVC1156\""
   ]
  },
  {
   "cell_type": "markdown",
   "metadata": {},
   "source": [
    "### 找出相同名稱的節點"
   ]
  },
  {
   "cell_type": "code",
   "execution_count": null,
   "metadata": {},
   "outputs": [],
   "source": [
    "import onnx\n",
    "\n",
    "def inspect_value_info(onnx_model_path, tensor_name):\n",
    "    model = onnx.load(onnx_model_path)\n",
    "    graph = model.graph\n",
    "\n",
    "    print(f\"Inspecting ValueInfo for tensor: {tensor_name}\")\n",
    "\n",
    "    # 檢查輸入、輸出和中間值\n",
    "    for value_info in graph.input:\n",
    "        if value_info.name == tensor_name:\n",
    "            print(\"Found in inputs:\", value_info)\n",
    "\n",
    "    for value_info in graph.output:\n",
    "        if value_info.name == tensor_name:\n",
    "            print(\"Found in outputs:\", value_info)\n",
    "\n",
    "    for value_info in graph.value_info:\n",
    "        if value_info.name == tensor_name:\n",
    "            print(\"Found in value_info:\", value_info)\n",
    "\n",
    "inspect_value_info(ONNX_PATH, \"output0\")\n"
   ]
  },
  {
   "cell_type": "code",
   "execution_count": 8,
   "metadata": {},
   "outputs": [
    {
     "name": "stdout",
     "output_type": "stream",
     "text": [
      "Cleaned model saved to onnx\\prun0.75_static_quantized_model_new.onnx\n"
     ]
    }
   ],
   "source": [
    "import onnx\n",
    "\n",
    "def clean_value_info(onnx_model_path, output_path, tensor_name):\n",
    "    model = onnx.load(onnx_model_path)\n",
    "    graph = model.graph\n",
    "\n",
    "    # 過濾多餘的 value_info，所以不會刪除到 graph.output 的 output0\n",
    "    new_value_info = [\n",
    "        value_info for value_info in graph.value_info if value_info.name != tensor_name\n",
    "    ]\n",
    "    graph.ClearField(\"value_info\")  # 清空舊的 value_info\n",
    "    graph.value_info.extend(new_value_info)  # 添加過濾後的條目\n",
    "\n",
    "    # 保存修復後的模型\n",
    "    onnx.save(model, output_path)\n",
    "    print(f\"Cleaned model saved to {output_path}\")\n",
    "\n",
    "clean_value_info(ONNX_PATH, ONNX_PATH_NEW, \"output0\")\n"
   ]
  },
  {
   "cell_type": "markdown",
   "metadata": {},
   "source": [
    "### Clean Model\n",
    "https://fastmachinelearning.org/hls4ml/frontend/qonnx.html  \n",
    "https://qonnx.readthedocs.io/en/latest/overview.html#from-onnx-to-qonnx"
   ]
  },
  {
   "cell_type": "code",
   "execution_count": 19,
   "metadata": {},
   "outputs": [],
   "source": [
    "model = ModelWrapper(ONNX_PATH_NEW)\n",
    "model = cleanup_model(model)\n",
    "model = model.transform(ConvertToChannelsLastAndClean())\n",
    "model = model.transform(GemmToMatMul())\n",
    "model = cleanup_model(model)\n",
    "model.save(ONNX_PATH_CLEAN)"
   ]
  },
  {
   "cell_type": "markdown",
   "metadata": {},
   "source": [
    "### Convert ONNX to hls4ml\n",
    "1. ERROR: Unsupported operation type: QuantizeLinear\n",
    "   C:\\Users\\user\\anaconda3\\envs\\YOLOv8_env\\Lib\\site-packages\\hls4ml\\converters\\onnx\\reshape.py\n",
    "2. Exception: ERROR: Merging more than two tensors is not yet supported.\n",
    "   C:\\Users\\user\\anaconda3\\envs\\YOLOv8_env\\Lib\\site-packages\\hls4ml\\converters\\onnx\\merge.py"
   ]
  },
  {
   "cell_type": "code",
   "execution_count": null,
   "metadata": {},
   "outputs": [],
   "source": [
    "model = onnx.load(ONNX_PATH)\n",
    "onnx.checker.check_model(model)\n",
    "\n",
    "config = hls4ml.utils.config.config_from_onnx_model(\n",
    "    model, granularity='name', backend='Vitis', default_precision='fixed<16,6>'\n",
    ")\n",
    "config['Model']['Precision'] = 'ap_fixed<16,6>'\n",
    "config['Model']['ReuseFactor'] = 1\n",
    "print(\"-----------------------------------\")\n",
    "print(\"Configuration\")\n",
    "plotting.print_dict(config)\n",
    "print(\"-----------------------------------\")\n",
    "\n",
    "hls_model = hls4ml.converters.convert_from_onnx_model(\n",
    "    model=model,\n",
    "    output_dir='OutputDir/',\n",
    "    io_type='io_stream',\n",
    "    backend='Vitis',\n",
    "    hls_config=config,\n",
    "    part=TARGET_FPGA_DEVICE\n",
    ")"
   ]
  },
  {
   "cell_type": "code",
   "execution_count": null,
   "metadata": {},
   "outputs": [],
   "source": [
    "hls4ml.utils.plot_model(hls_model, show_shapes=True, show_precision=True, to_file=None)"
   ]
  },
  {
   "cell_type": "code",
   "execution_count": null,
   "metadata": {},
   "outputs": [],
   "source": [
    "hls_model.compile()"
   ]
  },
  {
   "cell_type": "code",
   "execution_count": null,
   "metadata": {},
   "outputs": [],
   "source": [
    "\n",
    "hls_model.build(csim=False)"
   ]
  },
  {
   "cell_type": "code",
   "execution_count": null,
   "metadata": {},
   "outputs": [],
   "source": [
    "hls4ml.report.read_vivado_report('model_1/hls4ml_prj/')"
   ]
  },
  {
   "cell_type": "markdown",
   "metadata": {},
   "source": [
    "### ChipSkywalker"
   ]
  },
  {
   "cell_type": "code",
   "execution_count": 11,
   "metadata": {},
   "outputs": [],
   "source": [
    "# Load\n",
    "onnx_model = onnx.load(ONNX_PATH)\n",
    "# onnx.checker.check_model(onnx_model)"
   ]
  },
  {
   "cell_type": "code",
   "execution_count": 12,
   "metadata": {},
   "outputs": [
    {
     "ename": "KeyError",
     "evalue": "'LayerName'",
     "output_type": "error",
     "traceback": [
      "\u001b[1;31m---------------------------------------------------------------------------\u001b[0m",
      "\u001b[1;31mKeyError\u001b[0m                                  Traceback (most recent call last)",
      "Cell \u001b[1;32mIn[12], line 6\u001b[0m\n\u001b[0;32m      4\u001b[0m hls_config[\u001b[38;5;124m'\u001b[39m\u001b[38;5;124mModel\u001b[39m\u001b[38;5;124m'\u001b[39m][\u001b[38;5;124m'\u001b[39m\u001b[38;5;124mPrecision\u001b[39m\u001b[38;5;124m'\u001b[39m] \u001b[38;5;241m=\u001b[39m \u001b[38;5;124m'\u001b[39m\u001b[38;5;124map_fixed<16,6>\u001b[39m\u001b[38;5;124m'\u001b[39m\n\u001b[0;32m      5\u001b[0m hls_config[\u001b[38;5;124m'\u001b[39m\u001b[38;5;124mModel\u001b[39m\u001b[38;5;124m'\u001b[39m][\u001b[38;5;124m'\u001b[39m\u001b[38;5;124mReuseFactor\u001b[39m\u001b[38;5;124m'\u001b[39m] \u001b[38;5;241m=\u001b[39m \u001b[38;5;241m1\u001b[39m\n\u001b[1;32m----> 6\u001b[0m \u001b[38;5;28;01mfor\u001b[39;00m Layer \u001b[38;5;129;01min\u001b[39;00m \u001b[43mhls_config\u001b[49m\u001b[43m[\u001b[49m\u001b[38;5;124;43m'\u001b[39;49m\u001b[38;5;124;43mLayerName\u001b[39;49m\u001b[38;5;124;43m'\u001b[39;49m\u001b[43m]\u001b[49m\u001b[38;5;241m.\u001b[39mkeys():\n\u001b[0;32m      7\u001b[0m     hls_config[\u001b[38;5;124m'\u001b[39m\u001b[38;5;124mLayerName\u001b[39m\u001b[38;5;124m'\u001b[39m][Layer][\u001b[38;5;124m'\u001b[39m\u001b[38;5;124mStrategy\u001b[39m\u001b[38;5;124m'\u001b[39m] \u001b[38;5;241m=\u001b[39m \u001b[38;5;124m'\u001b[39m\u001b[38;5;124mLatency\u001b[39m\u001b[38;5;124m'\u001b[39m\n\u001b[0;32m      8\u001b[0m     hls_config[\u001b[38;5;124m'\u001b[39m\u001b[38;5;124mLayerName\u001b[39m\u001b[38;5;124m'\u001b[39m][Layer][\u001b[38;5;124m'\u001b[39m\u001b[38;5;124mReuseFactor\u001b[39m\u001b[38;5;124m'\u001b[39m] \u001b[38;5;241m=\u001b[39m \u001b[38;5;241m1\u001b[39m\n",
      "\u001b[1;31mKeyError\u001b[0m: 'LayerName'"
     ]
    }
   ],
   "source": [
    "hls_config = hls4ml.utils.config.config_from_onnx_model(\n",
    "    onnx_model, granularity='name', backend='Vitis', default_precision='fixed<16,6>'\n",
    ")\n",
    "hls_config['Model']['Precision'] = 'ap_fixed<16,6>'\n",
    "hls_config['Model']['ReuseFactor'] = 1\n",
    "for Layer in hls_config['LayerName'].keys():\n",
    "    hls_config['LayerName'][Layer]['Strategy'] = 'Latency'\n",
    "    hls_config['LayerName'][Layer]['ReuseFactor'] = 1\n",
    "hls_config['LayerName']['output_softmax']['Strategy'] = 'Stable'\n",
    "\n",
    "cfg = hls4ml.converters.create_config(backend='Vitis')  # chipSkywalker modified to use Vitis HLS\n",
    "cfg['IOType'] = 'io_stream'  # Must set this if using CNNs!\n",
    "cfg['HLSConfig'] = hls_config\n",
    "cfg['OnnxModel'] = onnx_model\n",
    "cfg['OutputDir'] = 'OutputDir/'\n",
    "cfg['Part'] = TARGET_FPGA_DEVICE   # chipSkywalker use Target Device set at beginning\n",
    "\n",
    "\n",
    "hls_model = hls4ml.converters.onnx_to_hls(cfg)\n",
    "hls_model.compile()"
   ]
  },
  {
   "cell_type": "code",
   "execution_count": null,
   "metadata": {},
   "outputs": [],
   "source": [
    "hls4ml.utils.plot_model(hls_model, show_shapes=True, show_precision=True, to_file=None)"
   ]
  },
  {
   "cell_type": "code",
   "execution_count": null,
   "metadata": {},
   "outputs": [],
   "source": [
    "hls4ml.model.profiling.numerical(model=model, hls_model=hls_model)"
   ]
  }
 ],
 "metadata": {
  "kernelspec": {
   "display_name": "hls4ml",
   "language": "python",
   "name": "python3"
  },
  "language_info": {
   "codemirror_mode": {
    "name": "ipython",
    "version": 3
   },
   "file_extension": ".py",
   "mimetype": "text/x-python",
   "name": "python",
   "nbconvert_exporter": "python",
   "pygments_lexer": "ipython3",
   "version": "3.10.16"
  }
 },
 "nbformat": 4,
 "nbformat_minor": 2
}
