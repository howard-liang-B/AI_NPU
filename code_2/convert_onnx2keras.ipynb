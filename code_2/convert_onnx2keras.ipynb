{
 "cells": [
  {
   "cell_type": "code",
   "execution_count": 1,
   "metadata": {},
   "outputs": [],
   "source": [
    "# pip==20.2\n",
    "import onnx2keras \n",
    "import onnx"
   ]
  },
  {
   "cell_type": "code",
   "execution_count": 2,
   "metadata": {},
   "outputs": [],
   "source": [
    "ONNX_PATH = r\"C:\\Users\\howar\\Desktop\\AI_NPU\\code_2\\onnx\\prun0.75_static_quantized_model.onnx\"\n",
    "KERAS_PATH = r\"C:\\Users\\howar\\Desktop\\AI_NPU\\code_2\\onnx\\prun0.75_static_quantized_model.h5\""
   ]
  },
  {
   "cell_type": "code",
   "execution_count": 3,
   "metadata": {},
   "outputs": [
    {
     "name": "stderr",
     "output_type": "stream",
     "text": [
      "INFO:onnx2keras:Converter is called.\n",
      "DEBUG:onnx2keras:List input shapes:\n",
      "DEBUG:onnx2keras:None\n",
      "DEBUG:onnx2keras:List inputs:\n",
      "DEBUG:onnx2keras:Input 0 -> images.\n",
      "DEBUG:onnx2keras:List outputs:\n",
      "DEBUG:onnx2keras:Output 0 -> output0.\n",
      "DEBUG:onnx2keras:Gathering weights to dictionary.\n",
      "DEBUG:onnx2keras:Found weight /model.10/Constant_output_0 with shape (4,).\n",
      "DEBUG:onnx2keras:Found weight /model.22/Constant_output_0 with shape (3,).\n",
      "DEBUG:onnx2keras:Found weight onnx::Split_408 with shape (2,).\n",
      "DEBUG:onnx2keras:Found weight /model.22/dfl/Constant_output_0 with shape (4,).\n",
      "DEBUG:onnx2keras:Found weight model.22.dfl.conv.weight with shape (1, 16, 1, 1).\n",
      "DEBUG:onnx2keras:Found weight /model.22/dfl/Constant_1_output_0 with shape (3,).\n",
      "DEBUG:onnx2keras:Found weight /model.22/Constant_4_output_0 with shape (1,).\n",
      "DEBUG:onnx2keras:Found weight /model.22/Mul_output_0 with shape (1,).\n",
      "DEBUG:onnx2keras:Found weight /model.22/Constant_3_output_0 with shape (1,).\n",
      "DEBUG:onnx2keras:Found weight /model.22/Mul_1_output_0 with shape (1,).\n",
      "DEBUG:onnx2keras:Found weight /model.22/Constant_9_output_0 with shape (1, 2, 8400).\n",
      "DEBUG:onnx2keras:Found weight /model.22/Constant_10_output_0 with shape (1, 2, 8400).\n",
      "DEBUG:onnx2keras:Found weight /model.22/Constant_11_output_0 with shape ().\n",
      "DEBUG:onnx2keras:Found weight /model.22/Constant_12_output_0 with shape (1, 8400).\n"
     ]
    },
    {
     "ename": "IndexError",
     "evalue": "list index out of range",
     "output_type": "error",
     "traceback": [
      "\u001b[1;31m---------------------------------------------------------------------------\u001b[0m",
      "\u001b[1;31mTypeError\u001b[0m                                 Traceback (most recent call last)",
      "File \u001b[1;32mc:\\Users\\howar\\miniconda3\\envs\\onnx_env\\lib\\site-packages\\onnx2keras\\converter.py:85\u001b[0m, in \u001b[0;36monnx_to_keras\u001b[1;34m(onnx_model, input_names, input_shapes, name_policy, verbose, change_ordering)\u001b[0m\n\u001b[0;32m     84\u001b[0m         onnx_extracted_weights_name \u001b[38;5;241m=\u001b[39m onnx_w\u001b[38;5;241m.\u001b[39mListFields()[\u001b[38;5;241m2\u001b[39m][\u001b[38;5;241m1\u001b[39m]\n\u001b[1;32m---> 85\u001b[0m     \u001b[43mweights\u001b[49m\u001b[43m[\u001b[49m\u001b[43monnx_extracted_weights_name\u001b[49m\u001b[43m]\u001b[49m \u001b[38;5;241m=\u001b[39m numpy_helper\u001b[38;5;241m.\u001b[39mto_array(onnx_w)\n\u001b[0;32m     86\u001b[0m \u001b[38;5;28;01mexcept\u001b[39;00m:\n",
      "\u001b[1;31mTypeError\u001b[0m: unhashable type: 'google._upb._message.RepeatedScalarContainer'",
      "\nDuring handling of the above exception, another exception occurred:\n",
      "\u001b[1;31mIndexError\u001b[0m                                Traceback (most recent call last)",
      "Cell \u001b[1;32mIn[3], line 2\u001b[0m\n\u001b[0;32m      1\u001b[0m onnx_model \u001b[38;5;241m=\u001b[39m onnx\u001b[38;5;241m.\u001b[39mload(ONNX_PATH)\n\u001b[1;32m----> 2\u001b[0m keras_model \u001b[38;5;241m=\u001b[39m \u001b[43monnx2keras\u001b[49m\u001b[38;5;241;43m.\u001b[39;49m\u001b[43monnx_to_keras\u001b[49m\u001b[43m(\u001b[49m\u001b[43monnx_model\u001b[49m\u001b[43m,\u001b[49m\u001b[43m \u001b[49m\u001b[43m[\u001b[49m\u001b[38;5;124;43m'\u001b[39;49m\u001b[38;5;124;43minput\u001b[39;49m\u001b[38;5;124;43m'\u001b[39;49m\u001b[43m]\u001b[49m\u001b[43m)\u001b[49m\n\u001b[0;32m      3\u001b[0m keras_model\u001b[38;5;241m.\u001b[39msave(KERAS_PATH)\n",
      "File \u001b[1;32mc:\\Users\\howar\\miniconda3\\envs\\onnx_env\\lib\\site-packages\\onnx2keras\\converter.py:87\u001b[0m, in \u001b[0;36monnx_to_keras\u001b[1;34m(onnx_model, input_names, input_shapes, name_policy, verbose, change_ordering)\u001b[0m\n\u001b[0;32m     85\u001b[0m     weights[onnx_extracted_weights_name] \u001b[38;5;241m=\u001b[39m numpy_helper\u001b[38;5;241m.\u001b[39mto_array(onnx_w)\n\u001b[0;32m     86\u001b[0m \u001b[38;5;28;01mexcept\u001b[39;00m:\n\u001b[1;32m---> 87\u001b[0m     onnx_extracted_weights_name \u001b[38;5;241m=\u001b[39m \u001b[43monnx_w\u001b[49m\u001b[38;5;241;43m.\u001b[39;49m\u001b[43mListFields\u001b[49m\u001b[43m(\u001b[49m\u001b[43m)\u001b[49m\u001b[43m[\u001b[49m\u001b[38;5;241;43m3\u001b[39;49m\u001b[43m]\u001b[49m[\u001b[38;5;241m1\u001b[39m]\n\u001b[0;32m     88\u001b[0m     weights[onnx_extracted_weights_name] \u001b[38;5;241m=\u001b[39m numpy_helper\u001b[38;5;241m.\u001b[39mto_array(onnx_w)\n\u001b[0;32m     90\u001b[0m logger\u001b[38;5;241m.\u001b[39mdebug(\u001b[38;5;124m'\u001b[39m\u001b[38;5;124mFound weight \u001b[39m\u001b[38;5;132;01m{0}\u001b[39;00m\u001b[38;5;124m with shape \u001b[39m\u001b[38;5;132;01m{1}\u001b[39;00m\u001b[38;5;124m.\u001b[39m\u001b[38;5;124m'\u001b[39m\u001b[38;5;241m.\u001b[39mformat(\n\u001b[0;32m     91\u001b[0m              onnx_extracted_weights_name,\n\u001b[0;32m     92\u001b[0m              weights[onnx_extracted_weights_name]\u001b[38;5;241m.\u001b[39mshape))\n",
      "\u001b[1;31mIndexError\u001b[0m: list index out of range"
     ]
    }
   ],
   "source": [
    "onnx_model = onnx.load(ONNX_PATH)\n",
    "keras_model = onnx2keras.onnx_to_keras(onnx_model, ['input'])\n",
    "keras_model.save(KERAS_PATH)"
   ]
  }
 ],
 "metadata": {
  "kernelspec": {
   "display_name": "onnx_env",
   "language": "python",
   "name": "python3"
  },
  "language_info": {
   "codemirror_mode": {
    "name": "ipython",
    "version": 3
   },
   "file_extension": ".py",
   "mimetype": "text/x-python",
   "name": "python",
   "nbconvert_exporter": "python",
   "pygments_lexer": "ipython3",
   "version": "3.9.21"
  }
 },
 "nbformat": 4,
 "nbformat_minor": 2
}
