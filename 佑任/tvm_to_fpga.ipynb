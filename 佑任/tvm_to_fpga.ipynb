{
 "cells": [
  {
   "cell_type": "code",
   "execution_count": 1,
   "metadata": {},
   "outputs": [
    {
     "name": "stdout",
     "output_type": "stream",
     "text": [
      "✅ Relay IR 已儲存至: /home/11126110/FPGA/relay_ir.txt\n"
     ]
    }
   ],
   "source": [
    "import onnx\n",
    "import tvm\n",
    "from tvm import relay\n",
    "import numpy as np\n",
    "from tvm.contrib import graph_executor\n",
    "\n",
    "# **載入 ONNX 模型**\n",
    "onnx_model_path = \"/home/11126110/FPGA/量化模型/prun0.75_static_quantized_model.onnx\"\n",
    "onnx_model = onnx.load(onnx_model_path)\n",
    "\n",
    "# **確保 ONNX 模型形狀正確**\n",
    "onnx_model = onnx.shape_inference.infer_shapes(onnx_model)\n",
    "\n",
    "# **定義輸入形狀**\n",
    "input_name = \"images\"\n",
    "input_shape = (1, 3, 640, 640)\n",
    "shape_dict = {input_name: input_shape}\n",
    "\n",
    "# **轉換 ONNX 到 Relay IR**\n",
    "mod, params = relay.frontend.from_onnx(onnx_model, shape_dict)\n",
    "\n",
    "# **儲存 Relay IR**\n",
    "relay_ir_path = \"/home/11126110/FPGA/relay_ir.txt\"\n",
    "with open(relay_ir_path, \"w\") as f:\n",
    "    f.write(str(mod))\n",
    "print(f\"✅ Relay IR 已儲存至: {relay_ir_path}\")\n"
   ]
  },
  {
   "cell_type": "code",
   "execution_count": 3,
   "metadata": {},
   "outputs": [
    {
     "name": "stderr",
     "output_type": "stream",
     "text": [
      "One or more operators have not been tuned. Please tune your model for better performance. Use DEBUG logging level to see more details.\n",
      "pool is not optimized for arm cpu.\n"
     ]
    },
    {
     "name": "stdout",
     "output_type": "stream",
     "text": [
      "✅ TVM FPGA 編譯完成，模型儲存於: /home/11126110/FPGA/compiled_model.tar\n"
     ]
    }
   ],
   "source": [
    "target = tvm.target.Target(\"llvm -mtriple=aarch64-linux-gnu\")\n",
    "with tvm.transform.PassContext(opt_level=3):\n",
    "    lib = relay.build(mod, target=target, params=params)\n",
    "\n",
    "\n",
    "# **儲存編譯後的 FPGA 模型**\n",
    "compiled_model_path = \"/home/11126110/FPGA/compiled_model.tar\"\n",
    "lib.export_library(compiled_model_path)\n",
    "print(f\"✅ TVM FPGA 編譯完成，模型儲存於: {compiled_model_path}\")\n"
   ]
  }
 ],
 "metadata": {
  "kernelspec": {
   "display_name": "Python 3",
   "language": "python",
   "name": "python3"
  },
  "language_info": {
   "codemirror_mode": {
    "name": "ipython",
    "version": 3
   },
   "file_extension": ".py",
   "mimetype": "text/x-python",
   "name": "python",
   "nbconvert_exporter": "python",
   "pygments_lexer": "ipython3",
   "version": "3.8.13"
  }
 },
 "nbformat": 4,
 "nbformat_minor": 2
}
