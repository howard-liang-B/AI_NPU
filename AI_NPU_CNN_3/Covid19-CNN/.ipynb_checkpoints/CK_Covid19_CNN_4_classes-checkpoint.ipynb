{
 "cells": [
  {
   "cell_type": "markdown",
   "metadata": {
    "colab_type": "text",
    "id": "view-in-github"
   },
   "source": [
    "<a href=\"https://colab.research.google.com/github/Pavan042/Covid_19_Image_Classification_CNN_Capstone_Project/blob/main/Covid_19_CNN.ipynb\" target=\"_parent\"><img src=\"https://colab.research.google.com/assets/colab-badge.svg\" alt=\"Open In Colab\"/></a>"
   ]
  },
  {
   "cell_type": "markdown",
   "metadata": {},
   "source": [
    "# Covid19 Convolutional Neural Networks in hls4ml"
   ]
  },
  {
   "cell_type": "markdown",
   "metadata": {
    "id": "PAHaYBBPWqcc"
   },
   "source": [
    "## Start with the neccessary imports"
   ]
  },
  {
   "cell_type": "code",
   "execution_count": 1,
   "metadata": {
    "id": "eKByJaciEQA5"
   },
   "outputs": [
    {
     "name": "stderr",
     "output_type": "stream",
     "text": [
      "2024-08-07 17:06:16.970081: I tensorflow/core/platform/cpu_feature_guard.cc:193] This TensorFlow binary is optimized with oneAPI Deep Neural Network Library (oneDNN) to use the following CPU instructions in performance-critical operations:  SSE4.1 SSE4.2 AVX AVX2 AVX512F AVX512_VNNI FMA\n",
      "To enable them in other operations, rebuild TensorFlow with the appropriate compiler flags.\n",
      "2024-08-07 17:06:17.033284: I tensorflow/core/util/port.cc:104] oneDNN custom operations are on. You may see slightly different numerical results due to floating-point round-off errors from different computation orders. To turn them off, set the environment variable `TF_ENABLE_ONEDNN_OPTS=0`.\n"
     ]
    }
   ],
   "source": [
    "import numpy as np\n",
    "import time\n",
    "import tensorflow.compat.v2 as tf\n",
    "#import tensorflow_datasets as tfds\n",
    "from tensorflow.keras.preprocessing import image\n",
    "import matplotlib.pyplot as plt"
   ]
  },
  {
   "cell_type": "code",
   "execution_count": 2,
   "metadata": {
    "id": "dEy-buL9Pq74"
   },
   "outputs": [],
   "source": [
    "#test_path = '../dataset/COVID-resized256-png/test'\n",
    "#train_path = '../dataset/COVID-resized256-png/train'\n",
    "#test_path = '../dataset/COVID-19_Radiography_Dataset/test'\n",
    "#train_path = '../dataset/COVID-19_Radiography_Dataset/train'\n",
    "#test_path = '../dataset/COVID-19_Radiography-resized128-png/test'\n",
    "#train_path = '../dataset/COVID-19_Radiography-resized128-png/train'\n",
    "test_path = '../dataset/COVID-19_Radiography-resized64-png/test'\n",
    "train_path = '../dataset/COVID-19_Radiography-resized64-png/train'"
   ]
  },
  {
   "cell_type": "code",
   "execution_count": 3,
   "metadata": {
    "colab": {
     "base_uri": "https://localhost:8080/"
    },
    "id": "LfE9A1BqPsyz",
    "outputId": "0a2d7bcc-2f21-4f47-997e-153055bff095"
   },
   "outputs": [
    {
     "name": "stdout",
     "output_type": "stream",
     "text": [
      "No of labels:  4\n",
      "Labels as list  ['Normal', 'ViralPneumonia', 'LungOpacity', 'COVID']\n",
      "Labels converted to Dict  {'Normal': 0, 'ViralPneumonia': 1, 'LungOpacity': 2, 'COVID': 3}\n"
     ]
    }
   ],
   "source": [
    "#manually list labels/classes_name\n",
    "#labels={'Normal': 0, 'COVID': 1, 'Lung_Opacity': 2, 'Viral Pneumonia': 3}\n",
    "\n",
    "#automatically scan dir and list the labels/classes_name\n",
    "import os\n",
    "labels = []\n",
    "for i in os.listdir(test_path):\n",
    "  labels.append(i)\n",
    "no_labels = len(labels)\n",
    "print(\"No of labels: \",no_labels)\n",
    "\n",
    "# convert a list to a dictionary with indexes as values\n",
    "# this is required to load test, val and test data correctly\n",
    "labels_list=labels\n",
    "print(\"Labels as list \",labels)\n",
    "labels = {k: v for v, k in enumerate(labels)}\n",
    "print(\"Labels converted to Dict \",labels)"
   ]
  },
  {
   "cell_type": "markdown",
   "metadata": {
    "id": "ijA8zSZ2ZCUT"
   },
   "source": [
    "### Generate batches of tensor image data with real-time data augmentation.\n",
    "### Users need to set batch_size,img_height and img_width before training "
   ]
  },
  {
   "cell_type": "code",
   "execution_count": 4,
   "metadata": {
    "id": "I_vDQRg-QnaG"
   },
   "outputs": [],
   "source": [
    "batch_size = 64\n",
    "#batch_size = 128\n",
    "#img_height = 256\n",
    "#img_width = 256\n",
    "#img_height = 128\n",
    "#img_width = 128\n",
    "img_height = 64\n",
    "img_width = 64\n",
    "\n",
    "#gen_train = image.ImageDataGenerator(rescale = 1/255,validation_split = 0.1, horizontal_flip = True)\n",
    "gen_train = image.ImageDataGenerator(rescale = 1/255,validation_split = 0.1)\n",
    "gen_test = image.ImageDataGenerator(rescale = 1/255)\n",
    "SIZE = (img_width,img_height)\n",
    "input_shape=(img_width,img_height,3)"
   ]
  },
  {
   "cell_type": "markdown",
   "metadata": {
    "id": "L1jRXhGlZmDp"
   },
   "source": [
    "### gen_train.flow_from_directory Takes the path to a directory & generates batches of augmented data."
   ]
  },
  {
   "cell_type": "code",
   "execution_count": 5,
   "metadata": {
    "colab": {
     "base_uri": "https://localhost:8080/"
    },
    "id": "KSyVUwRCSbhO",
    "outputId": "3bcb20e6-c634-41bf-c948-ca7bd10ad5ab"
   },
   "outputs": [
    {
     "name": "stdout",
     "output_type": "stream",
     "text": [
      "\n",
      "\n",
      " Loading train data\n",
      "Found 37178 images belonging to 4 classes.\n",
      "\n",
      "\n",
      " Loading validation data\n",
      "Found 4128 images belonging to 4 classes.\n",
      "\n",
      "\n",
      " Loading test data\n",
      "Found 512 images belonging to 4 classes.\n"
     ]
    }
   ],
   "source": [
    "print(\"\\n\\n Loading train data\")\n",
    "train_data = gen_train.flow_from_directory(batch_size = batch_size, directory = train_path, shuffle = True, classes = labels, target_size = SIZE, subset = \"training\", class_mode = 'categorical')\n",
    "print(\"\\n\\n Loading validation data\")\n",
    "valid_data = gen_train.flow_from_directory(batch_size = batch_size, directory = train_path, shuffle = True, classes = labels, target_size = SIZE, subset = \"validation\", class_mode = 'categorical')\n",
    "#test_data = gen_test.flow_from_directory(batch_size = 1, directory = test_path, shuffle = False, classes =labels, target_size = SIZE, class_mode = 'binary')\n",
    "print(\"\\n\\n Loading test data\")\n",
    "test_data = gen_test.flow_from_directory(batch_size = 1, directory = test_path, shuffle = True, classes =labels, target_size = SIZE, class_mode = 'categorical')"
   ]
  },
  {
   "cell_type": "markdown",
   "metadata": {},
   "source": [
    "## Prepare Test dataset(X_test) and true Label (Y_test)"
   ]
  },
  {
   "cell_type": "code",
   "execution_count": 6,
   "metadata": {
    "colab": {
     "base_uri": "https://localhost:8080/"
    },
    "id": "A0NMl4dtruGu",
    "outputId": "72563c32-b042-4cff-e069-6887f6160c8c"
   },
   "outputs": [
    {
     "name": "stdout",
     "output_type": "stream",
     "text": [
      "\n",
      " Class Names {'Normal': 0, 'ViralPneumonia': 1, 'LungOpacity': 2, 'COVID': 3}\n",
      "\n",
      " number of classes 4\n",
      "\n",
      " training data set count 37178\n",
      "X test batch shape = (512, 64, 64, 3), Y test batch shape = (512, 4) \n",
      "\n",
      " test data set count 512\n"
     ]
    }
   ],
   "source": [
    "class_names = train_data.class_indices\n",
    "n_classes = len(class_names)\n",
    "print('\\n',\"Class Names\",class_names)\n",
    "print('\\n',\"number of classes\",n_classes)\n",
    "train_size = train_data.n #total training images\n",
    "print('\\n',\"training data set count\",train_size  )\n",
    "\n",
    "#print(\"\\n\\n Loading test data\")\n",
    "#test_data = gen_test.flow_from_directory(batch_size = 1, directory = test_path, shuffle = True, classes =class_names, target_size = SIZE, class_mode = 'categorical')\n",
    "\n",
    "\"\"\"\n",
    "# Method 1 to prepare X_test and Y_test from flow_from_directory\n",
    "test_batch_size=1\n",
    "import tqdm\n",
    "test_data.reset()\n",
    "X_test, Y_test = next(test_data)\n",
    "for i in tqdm.tqdm(range(int(test_data.n/test_batch_size)-1)): \n",
    "  img, label = next(test_data)\n",
    "  X_test = np.append(X_test, img, axis=0 )\n",
    "  Y_test = np.append(Y_test, label, axis=0)\n",
    "\n",
    "print(\"X test batch shape = {}, Y test batch shape = {} \".format(X_test.shape, Y_test.shape))\n",
    "\n",
    "test_size = test_data.n #total test images\n",
    "print('\\n',\"test data set count\",test_size)\n",
    "\"\"\"\n",
    "\n",
    "# Method 2 to prepare X_test and Y_test from flow_from_directory\n",
    "# Method 2 seems faster than Method using tqdm\n",
    "from platform import python_version_tuple\n",
    "\n",
    "if python_version_tuple()[0] == '3':\n",
    "    xrange = range\n",
    "    izip = zip\n",
    "    imap = map\n",
    "else:\n",
    "    from itertools import izip, imap\n",
    "\n",
    "import numpy as np\n",
    "\n",
    "# ..\n",
    "# other code as in question\n",
    "# ..\n",
    "\n",
    "x, y = izip(*(test_data[i] for i in xrange(len(test_data))))\n",
    "X_test, Y_test = np.vstack(x), np.vstack(y)\n",
    "\n",
    "print(\"X test batch shape = {}, Y test batch shape = {} \".format(X_test.shape, Y_test.shape))\n",
    "\n",
    "test_size = test_data.n #total test images\n",
    "print('\\n',\"test data set count\",test_size)"
   ]
  },
  {
   "cell_type": "code",
   "execution_count": 7,
   "metadata": {
    "colab": {
     "base_uri": "https://localhost:8080/"
    },
    "id": "PHPrpTGjbTAJ",
    "outputId": "1f50c556-1776-42ca-92c7-e1605074706a"
   },
   "outputs": [
    {
     "name": "stdout",
     "output_type": "stream",
     "text": [
      "\n",
      " training sets   - {'Normal': 18116, 'COVID': 2191, 'Lung_Opacity': 10592, 'Viral Pneumonia': 6279}\n",
      "\n",
      " validation sets - {'Normal': 2012, 'COVID': 243, 'Lung_Opacity': 1176, 'Viral Pneumonia': 697}\n",
      "\n",
      " test sets       - {'Normal': 128, 'COVID': 128, 'Lung_Opacity': 128, 'Viral Pneumonia': 128}\n"
     ]
    }
   ],
   "source": [
    "\"\"\"\n",
    "print('\\n',{'Covid Negative':len(np.where(train_data .labels==0)[0]),\n",
    "      'Covid Positive':len(np.where(train_data.labels==1)[0])})\n",
    "print('\\n',{'Covid Negative':len(np.where(valid_data.labels==0)[0]),\n",
    "      'Covid Positive':len(np.where(valid_data.labels==1)[0])})\n",
    "print('\\n',{'Covid Negative':len(np.where(test_data.labels==0)[0]),\n",
    "      'Covid Positive':len(np.where(test_data.labels==1)[0])})\n",
    "\"\"\"\n",
    "\n",
    "print('\\n training sets   -',{'Normal':len(np.where(train_data .labels==0)[0]),\n",
    "      'COVID':len(np.where(train_data.labels==1)[0]),\n",
    "            'Lung_Opacity':len(np.where(train_data.labels==2)[0]),\n",
    "            'Viral Pneumonia':len(np.where(train_data.labels==3)[0])})\n",
    "print('\\n validation sets -',{'Normal':len(np.where(valid_data.labels==0)[0]),\n",
    "      'COVID':len(np.where(valid_data.labels==1)[0]),\n",
    "            'Lung_Opacity':len(np.where(valid_data.labels==2)[0]),\n",
    "           'Viral Pneumonia':len(np.where(valid_data.labels==3)[0])})\n",
    "print('\\n test sets       -',{'Normal':len(np.where(test_data.labels==0)[0]),\n",
    "      'COVID':len(np.where(test_data.labels==1)[0]),\n",
    "            'Lung_Opacity':len(np.where(test_data.labels==2)[0]),\n",
    "           'Viral Pneumonia':len(np.where(test_data.labels==3)[0])})"
   ]
  },
  {
   "cell_type": "markdown",
   "metadata": {
    "id": "yb_dkJvzjUKj"
   },
   "source": [
    "## Image Demonstration"
   ]
  },
  {
   "cell_type": "code",
   "execution_count": 8,
   "metadata": {
    "colab": {
     "base_uri": "https://localhost:8080/",
     "height": 1000
    },
    "id": "wyaXOFwNfyip",
    "outputId": "ac6adfa6-e963-4484-ba55-2236f117d1fa"
   },
   "outputs": [
    {
     "data": {
      "image/png": "[encoded data removed]",
      "text/plain": [
       "<Figure size 2000x1500 with 15 Axes>"
      ]
     },
     "metadata": {},
     "output_type": "display_data"
    }
   ],
   "source": [
    "import math\n",
    "def image_plot(train_data,image_numbers):\n",
    "    img_feature = train_data[0][0][:image_numbers]\n",
    "    img_label = train_data[0][1][:image_numbers]\n",
    "\n",
    "    plt.figure(figsize=(20, 15))\n",
    "    for i in range(image_numbers):\n",
    "        ax = plt.subplot(math.ceil(image_numbers/4),4, i + 1)\n",
    "        plt.imshow(img_feature[i])\n",
    "        #plt.title(\"Covid Negative\" if int(img_label[i][0]) == 0 else \"Covid Positive\" if int(img_label[i][1]) == 1) # if load as categorical \n",
    "        plt.title(\"Normal\" if int(img_label[i][0]) == 0 else \"COVID\" if int(img_label[i][1]) == 1 else \"Lung_Opacity\" if int(img_label[i][2]) == 2 else \"Viral Pneumonia\") # if load as categorical         \n",
    "        plt.axis(\"off\")\n",
    "\n",
    "image_plot(train_data,15)"
   ]
  },
  {
   "cell_type": "markdown",
   "metadata": {
    "id": "47dPxn4Nq0gE"
   },
   "source": [
    "## CNN Model\n",
    "\n",
    "We then need to define a model. For the lowest possible latency, each layer should have a maximum number of trainable parameters of 4096. This is due to fixed limits in the Vivado compiler, beyond which maximally unrolled (=parallel) compilation will fail. This will allow us to use `strategy = 'latency'` in the hls4ml part, rather than `strategy = 'resource'`, in turn resulting in lower latency"
   ]
  },
  {
   "cell_type": "code",
   "execution_count": 9,
   "metadata": {
    "id": "ZFQB3EL9uDV4"
   },
   "outputs": [
    {
     "name": "stdout",
     "output_type": "stream",
     "text": [
      "Adding convolutional block 0 with N=10 filters\n",
      "Adding convolutional block 1 with N=4 filters\n",
      "Adding convolutional block 2 with N=8 filters\n",
      "Adding convolutional block 3 with N=4 filters\n",
      "Adding convolutional block 4 with N=8 filters\n",
      "Adding convolutional block 5 with N=4 filters\n",
      "Adding dense block 0 with N=16 neurons\n",
      "Adding dense block 1 with N=64 neurons\n",
      "Model: \"keras_baseline\"\n",
      "_________________________________________________________________\n",
      " Layer (type)                Output Shape              Param #   \n",
      "=================================================================\n",
      " input_1 (InputLayer)        [(None, 64, 64, 3)]       0         \n",
      "                                                                 \n",
      " conv_0 (Conv2D)             (None, 62, 62, 10)        270       \n",
      "                                                                 \n",
      " bn_conv_0 (BatchNormalizati  (None, 62, 62, 10)       40        \n",
      " on)                                                             \n",
      "                                                                 \n",
      " conv_act_0 (Activation)     (None, 62, 62, 10)        0         \n",
      "                                                                 \n",
      " conv_1 (Conv2D)             (None, 60, 60, 4)         360       \n",
      "                                                                 \n",
      " bn_conv_1 (BatchNormalizati  (None, 60, 60, 4)        16        \n",
      " on)                                                             \n",
      "                                                                 \n",
      " conv_act_1 (Activation)     (None, 60, 60, 4)         0         \n",
      "                                                                 \n",
      " pool_1 (MaxPooling2D)       (None, 30, 30, 4)         0         \n",
      "                                                                 \n",
      " conv_2 (Conv2D)             (None, 28, 28, 8)         288       \n",
      "                                                                 \n",
      " bn_conv_2 (BatchNormalizati  (None, 28, 28, 8)        32        \n",
      " on)                                                             \n",
      "                                                                 \n",
      " conv_act_2 (Activation)     (None, 28, 28, 8)         0         \n",
      "                                                                 \n",
      " conv_3 (Conv2D)             (None, 26, 26, 4)         288       \n",
      "                                                                 \n",
      " bn_conv_3 (BatchNormalizati  (None, 26, 26, 4)        16        \n",
      " on)                                                             \n",
      "                                                                 \n",
      " conv_act_3 (Activation)     (None, 26, 26, 4)         0         \n",
      "                                                                 \n",
      " pool_3 (MaxPooling2D)       (None, 13, 13, 4)         0         \n",
      "                                                                 \n",
      " conv_4 (Conv2D)             (None, 11, 11, 8)         288       \n",
      "                                                                 \n",
      " bn_conv_4 (BatchNormalizati  (None, 11, 11, 8)        32        \n",
      " on)                                                             \n",
      "                                                                 \n",
      " conv_act_4 (Activation)     (None, 11, 11, 8)         0         \n",
      "                                                                 \n",
      " conv_5 (Conv2D)             (None, 9, 9, 4)           288       \n",
      "                                                                 \n",
      " bn_conv_5 (BatchNormalizati  (None, 9, 9, 4)          16        \n",
      " on)                                                             \n",
      "                                                                 \n",
      " conv_act_5 (Activation)     (None, 9, 9, 4)           0         \n",
      "                                                                 \n",
      " pool_5 (MaxPooling2D)       (None, 4, 4, 4)           0         \n",
      "                                                                 \n",
      " flatten (Flatten)           (None, 64)                0         \n",
      "                                                                 \n",
      " dense_0 (Dense)             (None, 16)                1024      \n",
      "                                                                 \n",
      " bn_dense_0 (BatchNormalizat  (None, 16)               64        \n",
      " ion)                                                            \n",
      "                                                                 \n",
      " dense_act_0 (Activation)    (None, 16)                0         \n",
      "                                                                 \n",
      " dense_1 (Dense)             (None, 64)                1024      \n",
      "                                                                 \n",
      " bn_dense_1 (BatchNormalizat  (None, 64)               256       \n",
      " ion)                                                            \n",
      "                                                                 \n",
      " dense_act_1 (Activation)    (None, 64)                0         \n",
      "                                                                 \n",
      " output_dense (Dense)        (None, 4)                 260       \n",
      "                                                                 \n",
      " output_softmax (Activation)  (None, 4)                0         \n",
      "                                                                 \n",
      "=================================================================\n",
      "Total params: 4,562\n",
      "Trainable params: 4,326\n",
      "Non-trainable params: 236\n",
      "_________________________________________________________________\n"
     ]
    },
    {
     "name": "stderr",
     "output_type": "stream",
     "text": [
      "2024-08-07 17:06:20.126385: I tensorflow/core/platform/cpu_feature_guard.cc:193] This TensorFlow binary is optimized with oneAPI Deep Neural Network Library (oneDNN) to use the following CPU instructions in performance-critical operations:  SSE4.1 SSE4.2 AVX AVX2 AVX512F AVX512_VNNI FMA\n",
      "To enable them in other operations, rebuild TensorFlow with the appropriate compiler flags.\n",
      "2024-08-07 17:06:20.205543: I tensorflow/core/common_runtime/gpu/gpu_device.cc:1613] Created device /job:localhost/replica:0/task:0/device:GPU:0 with 6218 MB memory:  -> device: 0, name: NVIDIA GeForce RTX 2070, pci bus id: 0000:65:00.0, compute capability: 7.5\n"
     ]
    }
   ],
   "source": [
    "#manually setting CNN model\n",
    "#model1 = Sequential()\n",
    "#model1.add(Conv2D(32, kernel_size = (3,3), activation = 'relu', input_shape = (224,224,3)))\n",
    "#model1.add(MaxPool2D())\n",
    "\n",
    "#model1.add(Conv2D(64, kernel_size = (3,3), activation = 'relu'))\n",
    "#model1.add(MaxPool2D())\n",
    "\n",
    "#model1.add(Conv2D(128, kernel_size = (3,3), activation = 'relu'))\n",
    "#model1.add(MaxPool2D())\n",
    "\n",
    "#model1.add(Flatten())\n",
    "#model1.add(Dense(128, activation = 'relu'))\n",
    "#model1.add(Dense(64, activation = 'relu'))\n",
    "#model1.add(Dense(no_labels, activation = 'softmax'))\n",
    "\n",
    "from tensorflow.keras.layers import Input\n",
    "from tensorflow.keras.layers import BatchNormalization\n",
    "from tensorflow.keras.layers import Conv2D\n",
    "from tensorflow.keras.regularizers import l1\n",
    "from tensorflow.keras.layers import MaxPooling2D\n",
    "from tensorflow.keras.layers import Activation\n",
    "from tensorflow.keras.layers import Flatten\n",
    "from tensorflow.keras.layers import Dense\n",
    "\n",
    "from tensorflow.keras.models import Model\n",
    "\n",
    "\n",
    "#if reset cuda memory is required set 1, pip install numba in advance\n",
    "#pip install numba\n",
    "RESET_CUDA_MEM = 0\n",
    "DISABLE_CUDA=0\n",
    "\n",
    "if RESET_CUDA_MEM==1:\n",
    "    from numba import cuda \n",
    "    device = cuda.get_current_device()\n",
    "    device.reset()\n",
    "\n",
    "# disable CUDA GPU to use CPU, for example if GPU is out of memory but your CPU has more memory\n",
    "# note you need to restart the kernel (kernel -> restart kernel) to take effect \n",
    "if DISABLE_CUDA==1:\n",
    "    import os\n",
    "    os.environ[\"CUDA_VISIBLE_DEVICES\"] = \"-1\"\n",
    "\n",
    "# we move TARGET_SPARSITY here, so user could adjust it with CNN model, since pruning affect accuracy more\n",
    "# default TARGET_SPARSITY\n",
    "TARGET_SPARSITY=0.5 # TARGET % to prune (by setting Weights to 0)\n",
    "USE_VGG16_LIKE = False #setting True will use VGG16 like model, setting Flase will use traditional CNN, default set as False\n",
    "\n",
    "# **** specify which model you want to use\n",
    "# USE_MODEL_NUMER = 0 , larger model but could achieve very high accuracy >95%\n",
    "# USE_MODEL_NUMER = 1 , smaller model(fewer filters), and lower accuracy < 80% could fit into the low cost SoC FPGA (TARGET_SPARSITY=0.5)\n",
    "# USE_MODEL_NUMER = 2 , smaller model like VGG16, accuracy > 80%, could fit into the low cost SoC FPGA \n",
    "# USE_MODEL_NUMER = 3 , smaller model like VGG16, accuracy > 80%, could fit into the low cost SoC FPGA\n",
    "\n",
    "USE_MODEL_NUMER = 4\n",
    "\n",
    "if USE_MODEL_NUMER == 1:\n",
    "    # first try to lower parameter(reducing BRAM to use smaller FPGA device) while try to keep accuracy\n",
    "    filters_per_conv_layer = [16, 8, 4, 4] \n",
    "    neurons_per_dense_layer = [16,64]\n",
    "    USE_VGG16_LIKE = False #setting True will use VGG16 like model, setting Flase will use traditional CNN, default set as False\n",
    "    TARGET_SPARSITY=0.5 # TARGET % to prune (by setting Weights to 0)\n",
    "\n",
    "    #Accuracy hls4ml Float Keras     : 81.4453125 %\n",
    "    #Accuracy hls4ml Quantized QKeras: 79.8828125 %\n",
    "\n",
    "    #Resource usage and latency: Pruned + Float\n",
    "    #{'bram': 101.5,'bram_Util%': 72.5,'dsp': 220,'dsp_Util%': 100.0,'ff': 89788,'ff_Util%': 84.39,\n",
    "    #'latency_clks': 34016,'latency_ii': 32772,'latency_mus': 170.08,'lut': 77819,'lut_Util%': 146.28}\n",
    "\n",
    "    # Resource usage and latency: Pruned + quantized\n",
    "    #{'bram': 101.0,'bram_Util%': 72.14,'dsp': 150,'dsp_Util%': 68.18,'ff': 62380,'ff_Util%': 58.63,\n",
    "    # 'latency_clks': 34017,'latency_ii': 32772,'latency_mus': 170.085,'lut': 43033,'lut_Util%': 80.89}\n",
    "\n",
    "elif USE_MODEL_NUMER == 2:\n",
    "    # second try to lower parameter(reducing BRAM to use smaller FPGA device) while try to keep accuracy\n",
    "    filters_per_conv_layer = [8, 4, 8, 4, 8, 4] \n",
    "    neurons_per_dense_layer = [16,32,32]\n",
    "    TARGET_SPARSITY=0.5 # TARGET % to prune (by setting Weights to 0)\n",
    "    USE_VGG16_LIKE = True\n",
    "    # result with TARGET_SPARSITY=0.5 image 64x64\n",
    "\n",
    "    # accuracy : Float Pruned Keras accuracy = 0.830078125 , Quantized Pruned QKeras accuracy = 0.7734375\n",
    "\n",
    "    # utilization based on 7z020 \n",
    "    # Resource usage and latency: Pruned + Float\n",
    "    #{'bram': 79.0,'bram_Util%': 56.43,'dsp': 220,'dsp_Util%': 100.0,'ff': 103657,'ff_Util%': 97.42,\n",
    "    # 'latency_clks': 35809,'latency_ii': 34600,'latency_mus': 179.045,'lut': 71909,'lut_Util%': 135.17}\n",
    "\n",
    "    # Resource usage and latency: Pruned + quantized\n",
    "    #{'bram': 80.5,'bram_Util%': 57.5,'dsp': 122,'dsp_Util%': 55.45,'ff': 77435,'ff_Util%': 72.78,\n",
    "    # 'latency_clks': 31958,'latency_ii': 30756,'latency_mus': 159.79,'lut': 43482,'lut_Util%': 81.73}\n",
    "\n",
    "elif USE_MODEL_NUMER == 3:\n",
    "    # third try to lower parameter(reducing BRAM to use smaller FPGA device) while try to keep accuracy\n",
    "    filters_per_conv_layer = [8, 6, 8, 6, 8, 4]\n",
    "    neurons_per_dense_layer = [64,64]\n",
    "    TARGET_SPARSITY=0.5 # TARGET % to prune (by setting Weights to 0)\n",
    "    USE_VGG16_LIKE = True\n",
    "    # accuracy :Float Pruned Keras accuracy = 0.865234375 , Quantized Pruned QKeras accuracy = 0.8046875\n",
    "\n",
    "    # utilization based on 7z020 \n",
    "\n",
    "    #Resource usage and latency: Pruned + Float\n",
    "    #{'bram': 105.0,'bram_Util%': 75.0,'dsp': 220,'dsp_Util%': 100.0,'ff': 220512,'ff_Util%': 207.25,\n",
    "    # 'latency_clks': 38978,'latency_ii': 34600,'latency_mus': 194.89,'lut': 135869,'lut_Util%': 255.39}\n",
    "\n",
    "    #Resource usage and latency: Pruned + quantized\n",
    "    #{'bram': 107.0,'bram_Util%': 76.43,'dsp': 167,'dsp_Util%': 75.91,'ff': 168587,'ff_Util%': 158.45,\n",
    "    #'latency_clks': 37143,'latency_ii': 32772,'latency_mus': 185.715,'lut': 79490,'lut_Util%': 149.42}\n",
    "\n",
    "elif USE_MODEL_NUMER == 4:\n",
    "    # third try to lower parameter(reducing BRAM to use smaller FPGA device) while try to keep accuracy\n",
    "    filters_per_conv_layer = [10, 4, 8, 4, 8, 4] \n",
    "    neurons_per_dense_layer = [16,64]\n",
    "    TARGET_SPARSITY=0.5 # TARGET % to prune (by setting Weights to 0)\n",
    "    USE_VGG16_LIKE = True\n",
    "\n",
    "else :\n",
    "    #initial model configuration\n",
    "    filters_per_conv_layer = [64, 64, 32] \n",
    "    neurons_per_dense_layer = [8,128]\n",
    "    USE_VGG16_LIKE = False\n",
    "\n",
    "\n",
    "x = x_in = Input(input_shape)\n",
    "\n",
    "# For loop to create a typical CNN model\n",
    "for i, f in enumerate(filters_per_conv_layer):\n",
    "    print(('Adding convolutional block {} with N={} filters').format(i, f))\n",
    "    x = Conv2D(\n",
    "        int(f),\n",
    "        kernel_size=(3, 3),\n",
    "        strides=(1, 1),\n",
    "        kernel_initializer='lecun_uniform',\n",
    "        kernel_regularizer=l1(0.0001),\n",
    "        use_bias=False,\n",
    "        name='conv_{}'.format(i)\n",
    "    )(x)\n",
    "    x = BatchNormalization(name='bn_conv_{}'.format(i))(x)\n",
    "    x = Activation('relu', name='conv_act_%i' % i)(x)\n",
    "    if USE_VGG16_LIKE :\n",
    "        if(i%2==1) : # for VGG16-like \n",
    "            x = MaxPooling2D(pool_size=(2, 2), name='pool_{}'.format(i))(x)\n",
    "    else :\n",
    "        x = MaxPooling2D(pool_size=(2, 2), name='pool_{}'.format(i))(x)\n",
    "x = Flatten()(x)\n",
    "\n",
    "for i, n in enumerate(neurons_per_dense_layer):\n",
    "    print(('Adding dense block {} with N={} neurons').format(i, n))\n",
    "    x = Dense(n, kernel_initializer='lecun_uniform', kernel_regularizer=l1(0.0001), name='dense_%i' % i, use_bias=False)(x)\n",
    "    x = BatchNormalization(name='bn_dense_{}'.format(i))(x)\n",
    "    x = Activation('relu', name='dense_act_%i' % i)(x)\n",
    "x = Dense(int(n_classes), name='output_dense')(x)\n",
    "x_out = Activation('softmax', name='output_softmax')(x)\n",
    "\n",
    "model = Model(inputs=[x_in], outputs=[x_out], name='keras_baseline')\n",
    "\n",
    "model.summary()"
   ]
  },
  {
   "cell_type": "markdown",
   "metadata": {
    "id": "8dlpwFDra_PQ"
   },
   "source": [
    "#### For metrics parameter of the model.compile, we can mention evaluation metrics we want the model to return. Here we shall write accuracy.\n",
    "- **Use model.compile and compile it with loss=\"sparse_categorical_crossentropy\", optimizer=\"nadam\", metrics=[\"accuracy\"].**"
   ]
  },
  {
   "cell_type": "code",
   "execution_count": 10,
   "metadata": {
    "id": "imQEPGcgwI_2"
   },
   "outputs": [],
   "source": [
    "model.compile(optimizer=\"adam\", loss='sparse_categorical_crossentropy', metrics='accuracy')\n",
    "#model.compile(optimizer=\"adam\", loss='SparseCategoricalCrossentropy', metrics='accuracy')"
   ]
  },
  {
   "cell_type": "markdown",
   "metadata": {
    "id": "7Keybr9ce3qb"
   },
   "source": [
    "- **Use fit method of the model to start training on the train_data. Use validation_data =(valid_data).**"
   ]
  },
  {
   "cell_type": "code",
   "execution_count": 11,
   "metadata": {
    "colab": {
     "base_uri": "https://localhost:8080/"
    },
    "id": "fgj6de0MsScP",
    "outputId": "f252e74d-aecd-484b-82ff-9fd91b808e2b"
   },
   "outputs": [],
   "source": [
    "n_epochs = 20\n",
    "#skip non float model fitting \n",
    "#history = model.fit(train_data, epochs=n_epochs, validation_data=valid_data)"
   ]
  },
  {
   "cell_type": "markdown",
   "metadata": {
    "id": "90KUj2OIguip"
   },
   "source": [
    "#### Lets check if this model can be implemented completely unrolled (=parallel)"
   ]
  },
  {
   "cell_type": "code",
   "execution_count": 12,
   "metadata": {
    "colab": {
     "base_uri": "https://localhost:8080/"
    },
    "id": "dN2mEpATfCE4",
    "outputId": "3a99dfc9-01c2-41ed-f4ea-91ea8e4e1ab2"
   },
   "outputs": [
    {
     "name": "stdout",
     "output_type": "stream",
     "text": [
      "conv_0: 270\n",
      "conv_1: 360\n",
      "conv_2: 288\n",
      "conv_3: 288\n",
      "conv_4: 288\n",
      "conv_5: 288\n",
      "dense_0: 1024\n",
      "dense_1: 1024\n",
      "output_dense: 256\n"
     ]
    }
   ],
   "source": [
    "for layer in model.layers:\n",
    "    if layer.__class__.__name__ in ['Conv2D', 'Dense']:\n",
    "        w = layer.get_weights()[0]\n",
    "        layersize = np.prod(w.shape)\n",
    "        print(\"{}: {}\".format(layer.name, layersize))  # 0 = weights, 1 = biases\n",
    "        if layersize > 4096:  # assuming that shape[0] is batch, i.e., 'None'\n",
    "            print(\"Layer {} is too large ({}), are you sure you want to train?\".format(layer.name, layersize))"
   ]
  },
  {
   "cell_type": "markdown",
   "metadata": {
    "id": "yL49aZLIg_cw"
   },
   "source": [
    "#### Prune dense and convolutional layers"
   ]
  },
  {
   "cell_type": "code",
   "execution_count": 13,
   "metadata": {
    "colab": {
     "base_uri": "https://localhost:8080/"
    },
    "id": "lT9EOmulml8p",
    "outputId": "eb7979b8-affb-403b-d6eb-749f8eab8973"
   },
   "outputs": [
    {
     "name": "stdout",
     "output_type": "stream",
     "text": [
      "Number of training steps per epoch is 522\n",
      "WARNING:tensorflow:From /mnt/Data/anaconda3/envs/hls4ml-tutorial/lib/python3.10/site-packages/tensorflow/python/autograph/pyct/static_analysis/liveness.py:83: Analyzer.lamba_check (from tensorflow.python.autograph.pyct.static_analysis.liveness) is deprecated and will be removed after 2023-09-23.\n",
      "Instructions for updating:\n",
      "Lambda fuctions will be no more assumed to be used in the statement where they are used, or at least in the same block. https://github.com/tensorflow/tensorflow/issues/56089\n"
     ]
    }
   ],
   "source": [
    "import tensorflow_model_optimization as tfmot\n",
    "from tensorflow_model_optimization.sparsity import keras as sparsity\n",
    "from tensorflow_model_optimization.python.core.sparsity.keras import pruning_callbacks\n",
    "\n",
    "NSTEPS = int(train_size * 0.9) // batch_size  # 90% train, 10% validation in 10-fold cross validation\n",
    "print('Number of training steps per epoch is {}'.format(NSTEPS))\n",
    "\n",
    "#TARGET_SPARSITY=0.2 # TARGET % to prune (by setting Weights to 0)\n",
    "\n",
    "# Prune all convolutional and dense layers gradually from 0 to 50% sparsity every 2 epochs,\n",
    "# ending by the 10th epoch\n",
    "def pruneFunction(layer):\n",
    "    pruning_params = {\n",
    "        'pruning_schedule': sparsity.PolynomialDecay(\n",
    "            initial_sparsity=0.0, final_sparsity=TARGET_SPARSITY, begin_step=NSTEPS * 2, end_step=NSTEPS * 10, frequency=NSTEPS\n",
    "        )\n",
    "    }\n",
    "    if isinstance(layer, tf.keras.layers.Conv2D):\n",
    "        return tfmot.sparsity.keras.prune_low_magnitude(layer, **pruning_params)\n",
    "    if isinstance(layer, tf.keras.layers.Dense) and layer.name != 'output_dense':\n",
    "        return tfmot.sparsity.keras.prune_low_magnitude(layer, **pruning_params)\n",
    "    return layer\n",
    "\n",
    "\n",
    "model_pruned = tf.keras.models.clone_model(model, clone_function=pruneFunction)"
   ]
  },
  {
   "cell_type": "markdown",
   "metadata": {},
   "source": [
    "## Train baseline (the float pruned model)\n",
    "\n",
    "We're now ready to train the model! We defined the batch size and n epochs above. We won't use callbacks that store the best weights only, since this might select a weight configuration that has not yet reached 50% sparsity."
   ]
  },
  {
   "cell_type": "code",
   "execution_count": 14,
   "metadata": {
    "colab": {
     "base_uri": "https://localhost:8080/"
    },
    "id": "jUh5xQ6EoO0I",
    "outputId": "f3c5571b-b5d5-4d6d-a8da-30df7ac783c4",
    "scrolled": true
   },
   "outputs": [
    {
     "name": "stdout",
     "output_type": "stream",
     "text": [
      "Epoch 1/50\n"
     ]
    },
    {
     "name": "stderr",
     "output_type": "stream",
     "text": [
      "2024-08-07 17:06:24.995720: I tensorflow/compiler/xla/stream_executor/cuda/cuda_dnn.cc:428] Loaded cuDNN version 8800\n",
      "2024-08-07 17:06:25.270769: I tensorflow/compiler/xla/service/service.cc:173] XLA service 0x7f7fc1b0c410 initialized for platform CUDA (this does not guarantee that XLA will be used). Devices:\n",
      "2024-08-07 17:06:25.270793: I tensorflow/compiler/xla/service/service.cc:181]   StreamExecutor device (0): NVIDIA GeForce RTX 2070, Compute Capability 7.5\n",
      "2024-08-07 17:06:25.273771: I tensorflow/compiler/mlir/tensorflow/utils/dump_mlir_util.cc:268] disabling MLIR crash reproducer, set env var `MLIR_CRASH_REPRODUCER_DIRECTORY` to enable.\n",
      "2024-08-07 17:06:25.374005: I tensorflow/compiler/jit/xla_compilation_cache.cc:477] Compiled cluster using XLA!  This line is logged at most once for the lifetime of the process.\n"
     ]
    },
    {
     "name": "stdout",
     "output_type": "stream",
     "text": [
      "581/581 [==============================] - 18s 20ms/step - loss: 0.7699 - accuracy: 0.7196 - val_loss: 2.3559 - val_accuracy: 0.3779 - lr: 0.0030\n",
      "Epoch 2/50\n",
      "581/581 [==============================] - 11s 19ms/step - loss: 0.6137 - accuracy: 0.7835 - val_loss: 0.9929 - val_accuracy: 0.6417 - lr: 0.0030\n",
      "Epoch 3/50\n",
      "581/581 [==============================] - 11s 19ms/step - loss: 0.5564 - accuracy: 0.8091 - val_loss: 0.7448 - val_accuracy: 0.7289 - lr: 0.0030\n",
      "Epoch 4/50\n",
      "581/581 [==============================] - 11s 19ms/step - loss: 0.5140 - accuracy: 0.8252 - val_loss: 0.5806 - val_accuracy: 0.8021 - lr: 0.0030\n",
      "Epoch 5/50\n",
      "581/581 [==============================] - 11s 19ms/step - loss: 0.4881 - accuracy: 0.8351 - val_loss: 0.7899 - val_accuracy: 0.7093 - lr: 0.0030\n",
      "Epoch 6/50\n",
      "581/581 [==============================] - 11s 19ms/step - loss: 0.4669 - accuracy: 0.8432 - val_loss: 3.7953 - val_accuracy: 0.3583 - lr: 0.0030\n",
      "Epoch 7/50\n",
      "579/581 [============================>.] - ETA: 0s - loss: 0.4527 - accuracy: 0.8476\n",
      "Epoch 7: ReduceLROnPlateau reducing learning rate to 0.001500000013038516.\n",
      "581/581 [==============================] - 11s 19ms/step - loss: 0.4525 - accuracy: 0.8476 - val_loss: 2.1681 - val_accuracy: 0.4806 - lr: 0.0030\n",
      "Epoch 8/50\n",
      "581/581 [==============================] - 11s 19ms/step - loss: 0.4219 - accuracy: 0.8583 - val_loss: 0.4809 - val_accuracy: 0.8307 - lr: 0.0015\n",
      "Epoch 9/50\n",
      "581/581 [==============================] - 11s 19ms/step - loss: 0.4143 - accuracy: 0.8609 - val_loss: 0.4803 - val_accuracy: 0.8273 - lr: 0.0015\n",
      "Epoch 10/50\n",
      "581/581 [==============================] - 11s 19ms/step - loss: 0.4083 - accuracy: 0.8638 - val_loss: 0.4298 - val_accuracy: 0.8513 - lr: 0.0015\n",
      "Epoch 11/50\n",
      "581/581 [==============================] - 11s 19ms/step - loss: 0.4067 - accuracy: 0.8633 - val_loss: 0.5450 - val_accuracy: 0.8159 - lr: 0.0015\n",
      "Epoch 12/50\n",
      "581/581 [==============================] - 11s 19ms/step - loss: 0.3995 - accuracy: 0.8664 - val_loss: 0.5268 - val_accuracy: 0.8270 - lr: 0.0015\n",
      "Epoch 13/50\n",
      "581/581 [==============================] - 11s 19ms/step - loss: 0.3971 - accuracy: 0.8669 - val_loss: 0.4227 - val_accuracy: 0.8559 - lr: 0.0015\n",
      "Epoch 14/50\n",
      "581/581 [==============================] - 11s 20ms/step - loss: 0.3967 - accuracy: 0.8660 - val_loss: 0.4195 - val_accuracy: 0.8520 - lr: 0.0015\n",
      "Epoch 15/50\n",
      "581/581 [==============================] - 12s 20ms/step - loss: 0.3949 - accuracy: 0.8671 - val_loss: 0.9647 - val_accuracy: 0.6936 - lr: 0.0015\n",
      "Epoch 16/50\n",
      "581/581 [==============================] - 11s 19ms/step - loss: 0.3895 - accuracy: 0.8700 - val_loss: 0.6105 - val_accuracy: 0.7796 - lr: 0.0015\n",
      "Epoch 17/50\n",
      "579/581 [============================>.] - ETA: 0s - loss: 0.3864 - accuracy: 0.8692\n",
      "Epoch 17: ReduceLROnPlateau reducing learning rate to 0.000750000006519258.\n",
      "581/581 [==============================] - 11s 19ms/step - loss: 0.3865 - accuracy: 0.8691 - val_loss: 0.4289 - val_accuracy: 0.8527 - lr: 0.0015\n",
      "Epoch 18/50\n",
      "581/581 [==============================] - 11s 19ms/step - loss: 0.3741 - accuracy: 0.8746 - val_loss: 0.7359 - val_accuracy: 0.7495 - lr: 7.5000e-04\n",
      "Epoch 19/50\n",
      "581/581 [==============================] - 11s 19ms/step - loss: 0.3721 - accuracy: 0.8756 - val_loss: 0.4483 - val_accuracy: 0.8459 - lr: 7.5000e-04\n",
      "Epoch 20/50\n",
      "580/581 [============================>.] - ETA: 0s - loss: 0.3715 - accuracy: 0.8746\n",
      "Epoch 20: ReduceLROnPlateau reducing learning rate to 0.000375000003259629.\n",
      "581/581 [==============================] - 11s 19ms/step - loss: 0.3714 - accuracy: 0.8747 - val_loss: 0.6123 - val_accuracy: 0.7859 - lr: 7.5000e-04\n",
      "Epoch 21/50\n",
      "581/581 [==============================] - 11s 19ms/step - loss: 0.3638 - accuracy: 0.8776 - val_loss: 0.4073 - val_accuracy: 0.8605 - lr: 3.7500e-04\n",
      "Epoch 22/50\n",
      "581/581 [==============================] - 11s 20ms/step - loss: 0.3626 - accuracy: 0.8780 - val_loss: 0.3904 - val_accuracy: 0.8685 - lr: 3.7500e-04\n",
      "Epoch 23/50\n",
      "581/581 [==============================] - 11s 19ms/step - loss: 0.3594 - accuracy: 0.8802 - val_loss: 0.3827 - val_accuracy: 0.8680 - lr: 3.7500e-04\n",
      "Epoch 24/50\n",
      "581/581 [==============================] - 11s 20ms/step - loss: 0.3605 - accuracy: 0.8796 - val_loss: 0.3902 - val_accuracy: 0.8639 - lr: 3.7500e-04\n",
      "Epoch 25/50\n",
      "581/581 [==============================] - 11s 19ms/step - loss: 0.3602 - accuracy: 0.8791 - val_loss: 0.4488 - val_accuracy: 0.8491 - lr: 3.7500e-04\n",
      "Epoch 26/50\n",
      "581/581 [==============================] - ETA: 0s - loss: 0.3581 - accuracy: 0.8800\n",
      "Epoch 26: ReduceLROnPlateau reducing learning rate to 0.0001875000016298145.\n",
      "581/581 [==============================] - 11s 19ms/step - loss: 0.3581 - accuracy: 0.8800 - val_loss: 0.4157 - val_accuracy: 0.8588 - lr: 3.7500e-04\n",
      "Epoch 27/50\n",
      "581/581 [==============================] - 11s 19ms/step - loss: 0.3548 - accuracy: 0.8806 - val_loss: 0.3765 - val_accuracy: 0.8719 - lr: 1.8750e-04\n",
      "Epoch 28/50\n",
      "581/581 [==============================] - 11s 19ms/step - loss: 0.3547 - accuracy: 0.8814 - val_loss: 0.4140 - val_accuracy: 0.8580 - lr: 1.8750e-04\n",
      "Epoch 29/50\n",
      "581/581 [==============================] - 11s 19ms/step - loss: 0.3547 - accuracy: 0.8821 - val_loss: 0.4462 - val_accuracy: 0.8435 - lr: 1.8750e-04\n",
      "Epoch 30/50\n",
      "580/581 [============================>.] - ETA: 0s - loss: 0.3558 - accuracy: 0.8815\n",
      "Epoch 30: ReduceLROnPlateau reducing learning rate to 9.375000081490725e-05.\n",
      "581/581 [==============================] - 11s 19ms/step - loss: 0.3555 - accuracy: 0.8816 - val_loss: 0.3909 - val_accuracy: 0.8648 - lr: 1.8750e-04\n",
      "Epoch 31/50\n",
      "581/581 [==============================] - 11s 19ms/step - loss: 0.3519 - accuracy: 0.8824 - val_loss: 0.3735 - val_accuracy: 0.8711 - lr: 9.3750e-05\n",
      "Epoch 32/50\n",
      "581/581 [==============================] - 11s 19ms/step - loss: 0.3530 - accuracy: 0.8825 - val_loss: 0.3746 - val_accuracy: 0.8714 - lr: 9.3750e-05\n",
      "Epoch 33/50\n",
      "581/581 [==============================] - 11s 19ms/step - loss: 0.3505 - accuracy: 0.8830 - val_loss: 0.3742 - val_accuracy: 0.8685 - lr: 9.3750e-05\n",
      "Epoch 34/50\n",
      "581/581 [==============================] - 11s 19ms/step - loss: 0.3509 - accuracy: 0.8832 - val_loss: 0.3729 - val_accuracy: 0.8694 - lr: 9.3750e-05\n",
      "Epoch 35/50\n",
      "581/581 [==============================] - 11s 19ms/step - loss: 0.3495 - accuracy: 0.8838 - val_loss: 0.3757 - val_accuracy: 0.8692 - lr: 9.3750e-05\n",
      "Epoch 36/50\n",
      "581/581 [==============================] - 11s 19ms/step - loss: 0.3505 - accuracy: 0.8820 - val_loss: 0.3814 - val_accuracy: 0.8692 - lr: 9.3750e-05\n",
      "Epoch 37/50\n",
      "581/581 [==============================] - ETA: 0s - loss: 0.3508 - accuracy: 0.8823\n",
      "Epoch 37: ReduceLROnPlateau reducing learning rate to 4.6875000407453626e-05.\n",
      "581/581 [==============================] - 11s 19ms/step - loss: 0.3508 - accuracy: 0.8823 - val_loss: 0.3771 - val_accuracy: 0.8702 - lr: 9.3750e-05\n",
      "Epoch 38/50\n",
      "581/581 [==============================] - 11s 19ms/step - loss: 0.3488 - accuracy: 0.8834 - val_loss: 0.3721 - val_accuracy: 0.8704 - lr: 4.6875e-05\n",
      "Epoch 39/50\n",
      "581/581 [==============================] - 11s 19ms/step - loss: 0.3477 - accuracy: 0.8840 - val_loss: 0.3725 - val_accuracy: 0.8699 - lr: 4.6875e-05\n",
      "Epoch 40/50\n",
      "581/581 [==============================] - 11s 19ms/step - loss: 0.3481 - accuracy: 0.8849 - val_loss: 0.3717 - val_accuracy: 0.8711 - lr: 4.6875e-05\n",
      "Epoch 41/50\n",
      "581/581 [==============================] - 11s 19ms/step - loss: 0.3501 - accuracy: 0.8830 - val_loss: 0.3733 - val_accuracy: 0.8731 - lr: 4.6875e-05\n",
      "Epoch 42/50\n",
      "581/581 [==============================] - 11s 19ms/step - loss: 0.3490 - accuracy: 0.8836 - val_loss: 0.3764 - val_accuracy: 0.8677 - lr: 4.6875e-05\n",
      "Epoch 43/50\n",
      "579/581 [============================>.] - ETA: 0s - loss: 0.3496 - accuracy: 0.8834\n",
      "Epoch 43: ReduceLROnPlateau reducing learning rate to 2.3437500203726813e-05.\n",
      "581/581 [==============================] - 11s 19ms/step - loss: 0.3495 - accuracy: 0.8835 - val_loss: 0.3753 - val_accuracy: 0.8697 - lr: 4.6875e-05\n",
      "Epoch 44/50\n",
      "581/581 [==============================] - 11s 20ms/step - loss: 0.3498 - accuracy: 0.8817 - val_loss: 0.3725 - val_accuracy: 0.8719 - lr: 2.3438e-05\n",
      "Epoch 45/50\n",
      "581/581 [==============================] - 11s 19ms/step - loss: 0.3505 - accuracy: 0.8816 - val_loss: 0.3713 - val_accuracy: 0.8699 - lr: 2.3438e-05\n",
      "Epoch 46/50\n",
      "581/581 [==============================] - 11s 20ms/step - loss: 0.3488 - accuracy: 0.8831 - val_loss: 0.3710 - val_accuracy: 0.8699 - lr: 2.3438e-05\n",
      "Epoch 47/50\n",
      "581/581 [==============================] - 11s 20ms/step - loss: 0.3468 - accuracy: 0.8849 - val_loss: 0.3712 - val_accuracy: 0.8706 - lr: 2.3438e-05\n",
      "Epoch 48/50\n",
      "581/581 [==============================] - 11s 19ms/step - loss: 0.3492 - accuracy: 0.8837 - val_loss: 0.3709 - val_accuracy: 0.8680 - lr: 2.3438e-05\n",
      "Epoch 49/50\n",
      "579/581 [============================>.] - ETA: 0s - loss: 0.3498 - accuracy: 0.8832\n",
      "Epoch 49: ReduceLROnPlateau reducing learning rate to 1.1718750101863407e-05.\n",
      "581/581 [==============================] - 11s 19ms/step - loss: 0.3496 - accuracy: 0.8833 - val_loss: 0.3712 - val_accuracy: 0.8687 - lr: 2.3438e-05\n",
      "Epoch 50/50\n",
      "581/581 [==============================] - 11s 19ms/step - loss: 0.3487 - accuracy: 0.8825 - val_loss: 0.3708 - val_accuracy: 0.8699 - lr: 1.1719e-05\n",
      "It took 9.501779651641845 minutes to train Keras model\n"
     ]
    }
   ],
   "source": [
    "import time\n",
    "\n",
    "train = True  # True if you want to retrain, false if you want to load a previsously trained model\n",
    "\n",
    "n_epochs = 50\n",
    "\n",
    "if train:\n",
    "    LOSS = tf.keras.losses.CategoricalCrossentropy()\n",
    "    OPTIMIZER = tf.keras.optimizers.Adam(learning_rate=3e-3, beta_1=0.9, beta_2=0.999, epsilon=1e-07, amsgrad=True)\n",
    "\n",
    "    model_pruned.compile(loss=LOSS, optimizer=OPTIMIZER, metrics=[\"accuracy\"])  \n",
    "    #model_pruned.compile(loss='SparseCategoricalCrossentropy', optimizer=OPTIMIZER, metrics=[\"accuracy\"])\n",
    "\n",
    "    callbacks = [\n",
    "        tf.keras.callbacks.EarlyStopping(patience=n_epochs/2, verbose=1),\n",
    "        tf.keras.callbacks.ReduceLROnPlateau(monitor='val_loss', factor=0.5, patience=3, verbose=1),\n",
    "        pruning_callbacks.UpdatePruningStep(),\n",
    "    ]\n",
    "\n",
    "    start = time.time()\n",
    "    history = model_pruned.fit(train_data, epochs=n_epochs, validation_data=valid_data, callbacks=callbacks)\n",
    "    \n",
    "    end = time.time()\n",
    "\n",
    "    print('It took {} minutes to train Keras model'.format((end - start) / 60.0))\n",
    "\n",
    "    model_pruned.save('pruned_cnn_model.h5')\n",
    "\n",
    "else:\n",
    "    from qkeras.utils import _add_supported_quantized_objects\n",
    "    from tensorflow_model_optimization.python.core.sparsity.keras import pruning_wrapper\n",
    "\n",
    "    co = {}\n",
    "    _add_supported_quantized_objects(co)\n",
    "    co['PruneLowMagnitude'] = pruning_wrapper.PruneLowMagnitude\n",
    "    model_pruned = tf.keras.models.load_model('pruned_cnn_model.h5', custom_objects=co)"
   ]
  },
  {
   "cell_type": "markdown",
   "metadata": {},
   "source": [
    "### Float Pruned Model Accuracy/Loss"
   ]
  },
  {
   "cell_type": "code",
   "execution_count": 15,
   "metadata": {},
   "outputs": [
    {
     "data": {
      "image/png": "[encoded data removed]",
      "text/plain": [
       "<Figure size 1200x400 with 2 Axes>"
      ]
     },
     "metadata": {},
     "output_type": "display_data"
    }
   ],
   "source": [
    "import seaborn as sns\n",
    "sns.set()\n",
    "fig = plt.figure(0, (12, 4))\n",
    "\n",
    "ax = plt.subplot(1, 2, 1)\n",
    "sns.lineplot(x=history.epoch, y=history.history['accuracy'], label='Train')\n",
    "sns.lineplot(x=history.epoch, y=history.history['val_accuracy'], label='Valid', linestyle = 'dashed')\n",
    "plt.title('Model Accuracy')\n",
    "plt.tight_layout()\n",
    "\n",
    "ax = plt.subplot(1, 2, 2)\n",
    "sns.lineplot(x=history.epoch, y=history.history['loss'], label='Train')\n",
    "sns.lineplot(x=history.epoch, y=history.history['val_loss'], label='Valid', linestyle = 'dashed')\n",
    "plt.title('Model Loss')\n",
    "plt.tight_layout()"
   ]
  },
  {
   "cell_type": "markdown",
   "metadata": {},
   "source": [
    "## Quantization and the fused Conv2D+BatchNormalization layer in QKeras\n",
    "Let's now create a pruned an quantized model using QKeras. For this, we will use a fused Convolutional and BatchNormalization (BN) layer from QKeras, which will further speed up the implementation when we implement the model using hls4ml. \n",
    "There is currently no fused Dense+BatchNoralization layer available in QKeras, so we'll use Keras BatchNormalization when BN follows a Dense layer for now. We'll use the same precision everywhere, namely a bit width of 6 and 0 integer bits (this will be implemented as``<6,1>`` in hls4ml, due to the missing sign-bit). For now, make sure to set ```use_bias=True``` in ```QConv2DBatchnorm``` to avoid problems during synthesis."
   ]
  },
  {
   "cell_type": "code",
   "execution_count": 16,
   "metadata": {
    "scrolled": true
   },
   "outputs": [
    {
     "name": "stdout",
     "output_type": "stream",
     "text": [
      "Adding fused QConv+BN block 0 with N=10 filters\n",
      "Adding fused QConv+BN block 1 with N=4 filters\n",
      "Adding fused QConv+BN block 2 with N=8 filters\n",
      "Adding fused QConv+BN block 3 with N=4 filters\n",
      "Adding fused QConv+BN block 4 with N=8 filters\n",
      "Adding fused QConv+BN block 5 with N=4 filters\n",
      "Adding QDense block 0 with N=16 neurons\n",
      "Adding QDense block 1 with N=64 neurons\n"
     ]
    }
   ],
   "source": [
    "from qkeras import QActivation\n",
    "from qkeras import QDense, QConv2DBatchnorm\n",
    "\n",
    "x = x_in = Input(shape=input_shape)\n",
    "\n",
    "for i, f in enumerate(filters_per_conv_layer):\n",
    "    print(('Adding fused QConv+BN block {} with N={} filters').format(i, f))\n",
    "    x = QConv2DBatchnorm(\n",
    "        int(f),\n",
    "        kernel_size=(3, 3),\n",
    "        strides=(1, 1),\n",
    "        #kernel_quantizer=\"quantized_bits(6,0,alpha=1)\",\n",
    "        #bias_quantizer=\"quantized_bits(6,0,alpha=1)\",\n",
    "        kernel_quantizer=\"quantized_bits(8,3,alpha=1)\",\n",
    "        bias_quantizer=\"quantized_bits(8,3,alpha=1)\", \n",
    "        #kernel_quantizer=\"quantized_bits(8,3,alpha='auto_po2')\",\n",
    "        #bias_quantizer=\"quantized_bits(8,3,alpha='auto_po2')\",         \n",
    "        #kernel_quantizer=\"quantized_bits(8,3)\",\n",
    "        #bias_quantizer=\"quantized_bits(8,3)\",          \n",
    "        kernel_initializer='lecun_uniform',\n",
    "        kernel_regularizer=l1(0.0001),\n",
    "        use_bias=True,\n",
    "        name='fused_convbn_{}'.format(i),\n",
    "    )(x)\n",
    "    x = QActivation('quantized_relu(16)', name='conv_act_%i' % i)(x)\n",
    "    if USE_VGG16_LIKE :\n",
    "        if(i%2==1) : # for VGG16-like     \n",
    "            x = MaxPooling2D(pool_size=(2, 2), name='pool_{}'.format(i))(x)\n",
    "    else :\n",
    "        x = MaxPooling2D(pool_size=(2, 2), name='pool_{}'.format(i))(x)\n",
    "x = Flatten()(x)\n",
    "\n",
    "for i, n in enumerate(neurons_per_dense_layer):\n",
    "    print(('Adding QDense block {} with N={} neurons').format(i, n))\n",
    "    x = QDense(\n",
    "        n,\n",
    "        #kernel_quantizer=\"quantized_bits(6,0,alpha=1)\",\n",
    "        kernel_quantizer=\"quantized_bits(8,3,alpha=1)\",\n",
    "        bias_quantizer=\"quantized_bits(8,3,alpha=1)\", \n",
    "        #kernel_quantizer=\"quantized_bits(8,3,alpha='auto_po2')\",\n",
    "        #bias_quantizer=\"quantized_bits(8,3,alpha='auto_po2')\",                 \n",
    "        #kernel_quantizer=\"quantized_bits(8,3)\",          \n",
    "        kernel_initializer='lecun_uniform',\n",
    "        kernel_regularizer=l1(0.0001),\n",
    "        name='dense_%i' % i,\n",
    "        use_bias=False,\n",
    "    )(x)\n",
    "    x = BatchNormalization(name='bn_dense_{}'.format(i))(x)\n",
    "    #x = QActivation('quantized_relu(6)', name='dense_act_%i' % i)(x)\n",
    "    x = QActivation('quantized_relu(16)', name='dense_act_%i' % i)(x)    \n",
    "x = Dense(int(n_classes), name='output_dense')(x)\n",
    "x_out = Activation('softmax', name='output_softmax')(x)\n",
    "qmodel = Model(inputs=[x_in], outputs=[x_out], name='qkeras')"
   ]
  },
  {
   "cell_type": "code",
   "execution_count": 17,
   "metadata": {
    "scrolled": true
   },
   "outputs": [
    {
     "name": "stdout",
     "output_type": "stream",
     "text": [
      "Model: \"qkeras\"\n",
      "_________________________________________________________________\n",
      " Layer (type)                Output Shape              Param #   \n",
      "=================================================================\n",
      " input_2 (InputLayer)        [(None, 64, 64, 3)]       0         \n",
      "                                                                 \n",
      " fused_convbn_0 (QConv2DBatc  (None, 62, 62, 10)       321       \n",
      " hnorm)                                                          \n",
      "                                                                 \n",
      " conv_act_0 (QActivation)    (None, 62, 62, 10)        0         \n",
      "                                                                 \n",
      " fused_convbn_1 (QConv2DBatc  (None, 60, 60, 4)        381       \n",
      " hnorm)                                                          \n",
      "                                                                 \n",
      " conv_act_1 (QActivation)    (None, 60, 60, 4)         0         \n",
      "                                                                 \n",
      " pool_1 (MaxPooling2D)       (None, 30, 30, 4)         0         \n",
      "                                                                 \n",
      " fused_convbn_2 (QConv2DBatc  (None, 28, 28, 8)        329       \n",
      " hnorm)                                                          \n",
      "                                                                 \n",
      " conv_act_2 (QActivation)    (None, 28, 28, 8)         0         \n",
      "                                                                 \n",
      " fused_convbn_3 (QConv2DBatc  (None, 26, 26, 4)        309       \n",
      " hnorm)                                                          \n",
      "                                                                 \n",
      " conv_act_3 (QActivation)    (None, 26, 26, 4)         0         \n",
      "                                                                 \n",
      " pool_3 (MaxPooling2D)       (None, 13, 13, 4)         0         \n",
      "                                                                 \n",
      " fused_convbn_4 (QConv2DBatc  (None, 11, 11, 8)        329       \n",
      " hnorm)                                                          \n",
      "                                                                 \n",
      " conv_act_4 (QActivation)    (None, 11, 11, 8)         0         \n",
      "                                                                 \n",
      " fused_convbn_5 (QConv2DBatc  (None, 9, 9, 4)          309       \n",
      " hnorm)                                                          \n",
      "                                                                 \n",
      " conv_act_5 (QActivation)    (None, 9, 9, 4)           0         \n",
      "                                                                 \n",
      " pool_5 (MaxPooling2D)       (None, 4, 4, 4)           0         \n",
      "                                                                 \n",
      " flatten_1 (Flatten)         (None, 64)                0         \n",
      "                                                                 \n",
      " dense_0 (QDense)            (None, 16)                1024      \n",
      "                                                                 \n",
      " bn_dense_0 (BatchNormalizat  (None, 16)               64        \n",
      " ion)                                                            \n",
      "                                                                 \n",
      " dense_act_0 (QActivation)   (None, 16)                0         \n",
      "                                                                 \n",
      " dense_1 (QDense)            (None, 64)                1024      \n",
      "                                                                 \n",
      " bn_dense_1 (BatchNormalizat  (None, 64)               256       \n",
      " ion)                                                            \n",
      "                                                                 \n",
      " dense_act_1 (QActivation)   (None, 64)                0         \n",
      "                                                                 \n",
      " output_dense (Dense)        (None, 4)                 260       \n",
      "                                                                 \n",
      " output_softmax (Activation)  (None, 4)                0         \n",
      "                                                                 \n",
      "=================================================================\n",
      "Total params: 4,606\n",
      "Trainable params: 4,364\n",
      "Non-trainable params: 242\n",
      "_________________________________________________________________\n"
     ]
    }
   ],
   "source": [
    "qmodel.summary()"
   ]
  },
  {
   "cell_type": "markdown",
   "metadata": {},
   "source": [
    "### Train Quanized Pruned Model"
   ]
  },
  {
   "cell_type": "code",
   "execution_count": 18,
   "metadata": {},
   "outputs": [],
   "source": [
    "qmodel_pruned = tf.keras.models.clone_model(qmodel, clone_function=pruneFunction)"
   ]
  },
  {
   "cell_type": "code",
   "execution_count": null,
   "metadata": {},
   "outputs": [
    {
     "name": "stdout",
     "output_type": "stream",
     "text": [
      "Epoch 1/50\n"
     ]
    },
    {
     "name": "stderr",
     "output_type": "stream",
     "text": [
      "2024-08-07 17:15:58.276417: E tensorflow/core/grappler/optimizers/meta_optimizer.cc:954] layout failed: INVALID_ARGUMENT: Size of values 0 does not match size of permutation 4 @ fanin shape ingradient_tape/qkeras/conv_act_5/SelectV2-2-TransposeNHWCToNCHW-LayoutOptimizer\n"
     ]
    },
    {
     "name": "stdout",
     "output_type": "stream",
     "text": [
      "581/581 [==============================] - 19s 21ms/step - loss: 0.9279 - accuracy: 0.6457 - val_loss: 0.8744 - val_accuracy: 0.6783 - lr: 0.0030\n",
      "Epoch 2/50\n",
      "581/581 [==============================] - 11s 20ms/step - loss: 0.7683 - accuracy: 0.7166 - val_loss: 0.7867 - val_accuracy: 0.7120 - lr: 0.0030\n",
      "Epoch 3/50\n",
      "581/581 [==============================] - 12s 20ms/step - loss: 0.6931 - accuracy: 0.7497 - val_loss: 0.8865 - val_accuracy: 0.6582 - lr: 0.0030\n",
      "Epoch 4/50\n",
      "581/581 [==============================] - 11s 20ms/step - loss: 0.6451 - accuracy: 0.7700 - val_loss: 0.6688 - val_accuracy: 0.7561 - lr: 0.0030\n",
      "Epoch 5/50\n",
      "581/581 [==============================] - 11s 19ms/step - loss: 0.6091 - accuracy: 0.7879 - val_loss: 0.8720 - val_accuracy: 0.6679 - lr: 0.0030\n",
      "Epoch 6/50\n",
      "581/581 [==============================] - 11s 19ms/step - loss: 0.5824 - accuracy: 0.7959 - val_loss: 0.6239 - val_accuracy: 0.7759 - lr: 0.0030\n",
      "Epoch 7/50\n",
      "581/581 [==============================] - ETA: 0s - loss: 0.5703 - accuracy: 0.7997"
     ]
    }
   ],
   "source": [
    "train = True\n",
    "\n",
    "n_epochs = 50\n",
    "if train:\n",
    "    LOSS = tf.keras.losses.CategoricalCrossentropy()\n",
    "    OPTIMIZER = tf.keras.optimizers.Adam(learning_rate=3e-3, beta_1=0.9, beta_2=0.999, epsilon=1e-07, amsgrad=True)\n",
    "    qmodel_pruned.compile(loss=LOSS, optimizer=OPTIMIZER, metrics=[\"accuracy\"]) \n",
    "    #qmodel_pruned.compile(loss='SparseCategoricalCrossentropy', optimizer=OPTIMIZER, metrics=[\"accuracy\"])\n",
    "\n",
    "    callbacks = [\n",
    "        tf.keras.callbacks.EarlyStopping(patience=n_epochs/2, verbose=1),\n",
    "        tf.keras.callbacks.ReduceLROnPlateau(monitor='val_loss', factor=0.5, patience=3, verbose=1),\n",
    "        pruning_callbacks.UpdatePruningStep(),\n",
    "    ]\n",
    "\n",
    "    start = time.time()\n",
    "    history = qmodel_pruned.fit(train_data, epochs=n_epochs, validation_data=valid_data, callbacks=callbacks, verbose=1)\n",
    "    end = time.time()\n",
    "    print('\\n It took {} minutes to train!\\n'.format((end - start) / 60.0))\n",
    "\n",
    "    qmodel_pruned.save('quantized_pruned_cnn_model.h5')\n",
    "\n",
    "else:\n",
    "    from qkeras.utils import _add_supported_quantized_objects\n",
    "    from tensorflow_model_optimization.python.core.sparsity.keras import pruning_wrapper\n",
    "\n",
    "    co = {}\n",
    "    _add_supported_quantized_objects(co)\n",
    "    co['PruneLowMagnitude'] = pruning_wrapper.PruneLowMagnitude\n",
    "    qmodel_pruned = tf.keras.models.load_model('quantized_pruned_cnn_model.h5', custom_objects=co)"
   ]
  },
  {
   "cell_type": "code",
   "execution_count": null,
   "metadata": {
    "jupyter": {
     "source_hidden": true
    }
   },
   "outputs": [],
   "source": [
    "# Print the quantized layers\n",
    "from qkeras.autoqkeras.utils import print_qmodel_summary\n",
    "\n",
    "print_qmodel_summary(qmodel)"
   ]
  },
  {
   "cell_type": "markdown",
   "metadata": {},
   "source": [
    "You see that a bias quantizer is defined, although we are not using a bias term for the layers. This is set automatically by QKeras. In addition, you'll note that ``alpha='1'``. This sets the weight scale per channel to 1 (no scaling). The default is ``alpha='auto_po2'``, which sets the weight scale per channel to be a power-of-2, such that an actual hardware implementation can be performed by just shifting the result of the convolutional/dense layer to the right or left by checking the sign of the scale and then taking the log2 of the scale.\n",
    "\n",
    "Let's now prune and train this model! If you want, you can also train the unpruned version, ``qmodel`` and see how the performance compares. We will stick to the pruned one here. Again, we do not use a model checkpoint which stores the best weights, in order to ensure the model is trained to the desired sparsity."
   ]
  },
  {
   "cell_type": "markdown",
   "metadata": {},
   "source": [
    "### Quantized Pruned model Accuracy/Loss"
   ]
  },
  {
   "cell_type": "code",
   "execution_count": null,
   "metadata": {
    "scrolled": true
   },
   "outputs": [],
   "source": [
    "import seaborn as sns\n",
    "sns.set()\n",
    "fig = plt.figure(0, (12, 4))\n",
    "\n",
    "ax = plt.subplot(1, 2, 1)\n",
    "sns.lineplot(x=history.epoch, y=history.history['accuracy'], label='Train')\n",
    "sns.lineplot(x=history.epoch, y=history.history['val_accuracy'], label='Valid', linestyle = 'dashed')\n",
    "plt.title('Model Accuracy')\n",
    "plt.tight_layout()\n",
    "\n",
    "ax = plt.subplot(1, 2, 2)\n",
    "sns.lineplot(x=history.epoch, y=history.history['loss'], label='Train')\n",
    "sns.lineplot(x=history.epoch, y=history.history['val_loss'], label='Valid', linestyle = 'dashed')\n",
    "plt.title('Model Loss')\n",
    "plt.tight_layout()"
   ]
  },
  {
   "cell_type": "markdown",
   "metadata": {},
   "source": [
    "Performance\n",
    "Let's look at some ROC curves to compare the performance. Lets choose a few numbers so it doesn't get confusing. Feel free to change the numbers in labels."
   ]
  },
  {
   "cell_type": "code",
   "execution_count": null,
   "metadata": {},
   "outputs": [],
   "source": [
    "predict_baseline = model_pruned.predict(X_test)\n",
    "test_score_baseline = model_pruned.evaluate(X_test, Y_test)\n",
    "\n",
    "predict_qkeras = qmodel_pruned.predict(X_test)\n",
    "test_score_qkeras = qmodel_pruned.evaluate(X_test, Y_test)\n",
    "\n",
    "#print('\\nFloat Pruned Keras accuracy = {} \\n'.format(test_score_baseline[1]))\n",
    "print('\\nFloat Pruned Keras accuracy = {} , Qauntized Pruned QKeras accuracy = {}\\n'.format(test_score_baseline[1], test_score_qkeras[1]))"
   ]
  },
  {
   "cell_type": "code",
   "execution_count": null,
   "metadata": {},
   "outputs": [],
   "source": [
    "import matplotlib.pyplot as plt\n",
    "import pandas as pd\n",
    "from sklearn import metrics\n",
    "\n",
    "\n",
    "labels = ['%i' % nr for nr in range(0, n_classes)]  # If you want to look at all the labels\n",
    "# labels = ['0','1','9'] # Look at only a few labels, here for digits 0, 1 and 9\n",
    "print('Plotting ROC for labels {}'.format(labels))\n",
    "\n",
    "df = pd.DataFrame()\n",
    "df_q = pd.DataFrame()\n",
    "fpr = {}\n",
    "tpr = {}\n",
    "auc1 = {}\n",
    "fpr_q = {}\n",
    "tpr_q = {}\n",
    "auc1_q = {}\n",
    "%matplotlib inline\n",
    "colors = ['#67001f', '#b2182b', '#d6604d', '#f4a582', '#fddbc7', '#d1e5f0', '#92c5de', '#4393c3', '#2166ac', '#053061']\n",
    "fig, ax = plt.subplots(figsize=(10, 10))\n",
    "for i, label in enumerate(labels):\n",
    "    df[label] = Y_test[:, int(label)]\n",
    "    df[label + '_pred'] = predict_baseline[:, int(label)]\n",
    "    fpr[label], tpr[label], threshold = metrics.roc_curve(df[label], df[label + '_pred'])\n",
    "    auc1[label] = metrics.auc(fpr[label], tpr[label])\n",
    "\n",
    "    df_q[label] = Y_test[:, int(label)]\n",
    "    df_q[label + '_pred'] = predict_qkeras[:, int(label)]\n",
    "    fpr_q[label], tpr_q[label], threshold_q = metrics.roc_curve(df_q[label], df_q[label + '_pred'])\n",
    "    auc1_q[label] = metrics.auc(fpr_q[label], tpr_q[label])\n",
    "\n",
    "    plt.plot(\n",
    "        fpr[label],\n",
    "        tpr[label],\n",
    "        label=r'{}, AUC Keras = {:.1f}% AUC QKeras = {:.1f}%)'.format(label, auc1[label] * 100, auc1_q[label] * 100),\n",
    "        linewidth=1.5,\n",
    "        c=colors[i],\n",
    "        linestyle='solid',\n",
    "    )\n",
    "    plt.plot(fpr_q[label], tpr_q[label], linewidth=1.5, c=colors[i], linestyle='dotted')\n",
    "\n",
    "plt.semilogx()\n",
    "plt.ylabel(\"True Positive Rate\")\n",
    "plt.xlabel(\"False Positive Rate\")\n",
    "plt.xlim(0.01, 1.0)\n",
    "plt.ylim(0.5, 1.1)\n",
    "plt.legend(loc='lower right')\n",
    "plt.figtext(\n",
    "    0.2,\n",
    "    0.83,\n",
    "    r'Accuracy Float Keras = {:.1f}% Quantized QKeras 8-bit = {:.1f}%'.format(test_score_baseline[1] * 100, test_score_qkeras[1] * 100),\n",
    "    wrap=True,\n",
    "    horizontalalignment='left',\n",
    "    verticalalignment='center',\n",
    ")\n",
    "from matplotlib.lines import Line2D\n",
    "\n",
    "lines = [Line2D([0], [0], ls='-'), Line2D([0], [0], ls='--')]\n",
    "from matplotlib.legend import Legend\n",
    "\n",
    "leg = Legend(ax, lines, labels=['Keras', 'QKeras'], loc='lower right', frameon=False)\n",
    "ax.add_artist(leg)"
   ]
  },
  {
   "cell_type": "markdown",
   "metadata": {},
   "source": [
    "### Check sparsity Let's also check the per-layer sparsity:"
   ]
  },
  {
   "cell_type": "code",
   "execution_count": null,
   "metadata": {},
   "outputs": [],
   "source": [
    "def doWeights(model):\n",
    "    allWeightsByLayer = {}\n",
    "    for layer in model.layers:\n",
    "        if (layer._name).find(\"batch\") != -1 or len(layer.get_weights()) < 1:\n",
    "            continue\n",
    "        weights = layer.weights[0].numpy().flatten()\n",
    "        allWeightsByLayer[layer._name] = weights\n",
    "        print('Layer {}: % of zeros = {}'.format(layer._name, np.sum(weights == 0) / np.size(weights)))\n",
    "\n",
    "    labelsW = []\n",
    "    histosW = []\n",
    "\n",
    "    for key in reversed(sorted(allWeightsByLayer.keys())):\n",
    "        labelsW.append(key)\n",
    "        histosW.append(allWeightsByLayer[key])\n",
    "\n",
    "    fig = plt.figure(figsize=(10, 10))\n",
    "    bins = np.linspace(-1.5, 1.5, 50)\n",
    "    plt.hist(histosW, bins, histtype='stepfilled', stacked=True, label=labelsW, edgecolor='black')\n",
    "    plt.legend(frameon=False, loc='upper left')\n",
    "    plt.ylabel('Number of Weights')\n",
    "    plt.xlabel('Weights')\n",
    "    plt.figtext(0.2, 0.38, model._name, wrap=True, horizontalalignment='left', verticalalignment='center')\n",
    "\n",
    "\n",
    "doWeights(model_pruned)\n",
    "doWeights(qmodel_pruned)"
   ]
  },
  {
   "cell_type": "markdown",
   "metadata": {},
   "source": [
    "### We see that 50% of the weights per layer are set to zero, as expected. Now, let's synthesize the floating point Keras model and the QKeras quantized model!"
   ]
  },
  {
   "cell_type": "markdown",
   "metadata": {},
   "source": [
    "CNNs in hls4ml\n",
    "In this part, we will take the two models we trained above (the floating-point 32 Keras model and the n-bit QKeras model), and synthesize them with hls4ml. Although your models are probably already in memory, let's load them from scratch. We need to pass the appropriate custom QKeras/pruning layers when loading, and remove the pruning parameters that were saved together with the model."
   ]
  },
  {
   "cell_type": "code",
   "execution_count": null,
   "metadata": {},
   "outputs": [],
   "source": [
    "from tensorflow_model_optimization.sparsity.keras import strip_pruning\n",
    "from tensorflow_model_optimization.python.core.sparsity.keras import pruning_wrapper\n",
    "\n",
    "from qkeras.utils import _add_supported_quantized_objects\n",
    "\n",
    "co = {}\n",
    "_add_supported_quantized_objects(co)\n",
    "co['PruneLowMagnitude'] = pruning_wrapper.PruneLowMagnitude\n",
    "\n",
    "model = tf.keras.models.load_model('pruned_cnn_model.h5', custom_objects=co)\n",
    "model = strip_pruning(model)\n",
    "\n",
    "qmodel = tf.keras.models.load_model('quantized_pruned_cnn_model.h5', custom_objects=co)\n",
    "qmodel = strip_pruning(qmodel)"
   ]
  },
  {
   "cell_type": "markdown",
   "metadata": {},
   "source": [
    "Now, we need to define the hls4ml and Vivado configurations. Two things will change with respect to what was done in the previous exercises. First, we will use IOType= 'io_stream' in the Vivado configuration.\n",
    "\n",
    "****You must use IOType= 'io_stream' if attempting to synthesize a large convolutional neural network.****\n",
    "\n",
    "The CNN implementation in hls4ml is based on streams, which are synthesized in hardware as first in, first out (FIFO) buffers. Shift registers are used to keep track of the last <kernel height - 1> rows of input pixels, and maintains a shifting snapshot of the convolution kernel.\n",
    "\n",
    "This is illustrated in the gif below. Here, the input image is at the top-left and the output image at the bottom left. The top right image shows the internal state of the shift registers and convolutional kernel. The red square indicates the current pixels contained within the convolutional kernel.\n",
    "\n",
    "\n",
    "\n",
    "Lastly, we will use ['Strategy'] = 'Latency' for all the layers in the hls4ml configuration. If one layer would have >4096 elements, we sould set ['Strategy'] = 'Resource' for that layer, or increase the reuse factor by hand. You can find examples of how to do this below.\n"
   ]
  },
  {
   "cell_type": "code",
   "execution_count": null,
   "metadata": {},
   "outputs": [],
   "source": [
    "import hls4ml\n",
    "import plotting\n",
    "import matplotlib.pyplot as plt\n",
    "import pandas as pd\n",
    "from sklearn import metrics\n",
    "\n",
    "\n",
    "# First, the baseline model\n",
    "hls_config = hls4ml.utils.config_from_keras_model(model, granularity='name')\n",
    "\n",
    "# Set the precision and reuse factor for the full model\n",
    "hls_config['Model']['Precision'] = 'ap_fixed<16,6>'\n",
    "hls_config['Model']['ReuseFactor'] = 1\n",
    "\n",
    "# Create an entry for each layer, here you can for instance change the strategy for a layer to 'resource'\n",
    "# or increase the reuse factor individually for large layers.\n",
    "# In this case, we designed the model to be small enough for a fully parallel implementation\n",
    "# so we use the latency strategy and reuse factor of 1 for all layers.\n",
    "for Layer in hls_config['LayerName'].keys():\n",
    "    hls_config['LayerName'][Layer]['Strategy'] = 'Latency'\n",
    "    hls_config['LayerName'][Layer]['ReuseFactor'] = 1\n",
    "# If you want best numerical performance for high-accuray models, while the default latency strategy is faster but numerically more unstable\n",
    "hls_config['LayerName']['output_softmax']['Strategy'] = 'Stable'\n",
    "#plotting.print_dict(hls_config)\n",
    "#for k in hls_config:\n",
    "#   print('\\n',k,hls_config[k],'\\n')\n",
    "\n",
    "import json\n",
    "print(json.dumps(hls_config, indent = 4)) #chipSkywalker 2024.07.04 to fix no attribute print_dict error\n",
    "\n",
    "#cfg = hls4ml.converters.create_config(backend='Vivado')\n",
    "cfg = hls4ml.converters.create_config(backend='Vitis')  \n",
    "cfg['IOType'] = 'io_stream'  # Must set this if using CNNs!\n",
    "cfg['HLSConfig'] = hls_config\n",
    "cfg['KerasModel'] = model\n",
    "cfg['OutputDir'] = 'pruned_cnn/'\n",
    "#cfg['XilinxPart'] = 'xc7z020-clg484-1'\n",
    "cfg['Part'] = 'xc7z020-clg484-1' #zedboard\n",
    "#cfg['Part'] = 'XCZU7EV-FFVC1156-2' #ZCU106\n",
    "#cfg['XilinxPart'] = 'xcu250-figd2104-2L-e'\n",
    "hls_model = hls4ml.converters.keras_to_hls(cfg)\n",
    "hls_model.compile()"
   ]
  },
  {
   "cell_type": "markdown",
   "metadata": {},
   "source": [
    "Let's get a nice overview over the various shapes and precisions used for each layer through hls4ml.utils.plot_model, as well as look at the weight profile using hls4ml.model.profiling.numerical. The weight profiling returns two plots: Before (top) and after (bottom) various optimizations applied to the HLS model before the final translation to HLS, for instance the fusing of Dense and BatchNormalization layers."
   ]
  },
  {
   "cell_type": "code",
   "execution_count": null,
   "metadata": {},
   "outputs": [],
   "source": [
    "hls4ml.utils.plot_model(hls_model, show_shapes=True, show_precision=True, to_file=None)"
   ]
  },
  {
   "cell_type": "code",
   "execution_count": null,
   "metadata": {},
   "outputs": [],
   "source": [
    "hls4ml.model.profiling.numerical(model=model, hls_model=hls_model)"
   ]
  },
  {
   "cell_type": "markdown",
   "metadata": {},
   "source": [
    "The colored boxes are the distribution of the weights of the model, and the gray band illustrates the numerical range covered by the chosen fixed point precision. As we configured, this model uses a precision of ap_fixed<16,6> for all layers of the model. Let's now build our QKeras model"
   ]
  },
  {
   "cell_type": "code",
   "execution_count": null,
   "metadata": {},
   "outputs": [],
   "source": [
    "# Then the QKeras model\n",
    "hls_config_q = hls4ml.utils.config_from_keras_model(qmodel, granularity='name')\n",
    "hls_config_q['Model']['ReuseFactor'] = 1\n",
    "hls_config['Model']['Precision'] = 'ap_fixed<16,6>'\n",
    "hls_config_q['LayerName']['output_softmax']['Strategy'] = 'Stable'\n",
    "#plotting.print_dict(hls_config_q)\n",
    "#for k in hls_config_q:\n",
    "#   print('\\n',k,hls_config_q[k],'\\n')\n",
    "\n",
    "import json\n",
    "print(json.dumps(hls_config_q, indent = 4)) #chipSkywalker 2024.07.04 to fix no attribute print_dict error\n",
    "\n",
    "cfg_q = hls4ml.converters.create_config(backend='Vitis')\n",
    "cfg_q['IOType'] = 'io_stream'  # Must set this if using CNNs!\n",
    "cfg_q['HLSConfig'] = hls_config_q\n",
    "cfg_q['KerasModel'] = qmodel\n",
    "cfg_q['OutputDir'] = 'quantized_pruned_cnn/'\n",
    "cfg_q['Part'] = 'xc7z020-clg484-1'\n",
    "#cfg_q['XilinxPart'] = 'xc7z020-clg484-1'\n",
    "\n",
    "hls_model_q = hls4ml.converters.keras_to_hls(cfg_q)\n",
    "hls_model_q.compile()"
   ]
  },
  {
   "cell_type": "markdown",
   "metadata": {},
   "source": [
    "Let's plot the model and profile the weights too"
   ]
  },
  {
   "cell_type": "code",
   "execution_count": null,
   "metadata": {},
   "outputs": [],
   "source": [
    "hls4ml.model.profiling.numerical(model=qmodel, hls_model=hls_model_q)\n",
    "hls4ml.utils.plot_model(hls_model_q, show_shapes=True, show_precision=True, to_file=None)"
   ]
  },
  {
   "cell_type": "markdown",
   "metadata": {},
   "source": [
    "### Accuracy with bit-accurate emulation\n",
    "### If you learn our Unit8/Unit9, you will understand it is doing C Simulation, it takes some time to predict all test dataset\n",
    "##  But it is still faster than RTL simulation\n",
    "Let's check that the hls4ml accuracy matches the original. This usually takes some time, so let's do it over a reduced dataset"
   ]
  },
  {
   "cell_type": "code",
   "execution_count": null,
   "metadata": {},
   "outputs": [],
   "source": [
    "X_test_reduced = X_test[:100]\n",
    "Y_test_reduced = Y_test[:100]\n",
    "\n",
    "#chipskywalker, test dataset is not large, let's predict them all\n",
    "X_test_reduced = X_test\n",
    "Y_test_reduced = Y_test\n",
    "\n",
    "y_predict = model.predict(X_test_reduced)\n",
    "y_predict_hls4ml = hls_model.predict(np.ascontiguousarray(X_test_reduced))\n",
    "\n",
    "y_predict_q = qmodel.predict(X_test_reduced)\n",
    "y_predict_hls4ml_q = hls_model_q.predict(np.ascontiguousarray(X_test_reduced))"
   ]
  },
  {
   "cell_type": "code",
   "execution_count": null,
   "metadata": {
    "scrolled": true
   },
   "outputs": [],
   "source": [
    "predict_baseline = y_predict\n",
    "test_score_baseline = y_predict_hls4ml\n",
    "\n",
    "predict_qkeras = y_predict_q\n",
    "test_score_qkeras = y_predict_hls4ml_q\n",
    "\n",
    "from sklearn.metrics import accuracy_score\n",
    "\n",
    "accuracy_hls4ml_keras = float(accuracy_score(np.argmax(Y_test_reduced, axis=1), np.argmax(y_predict_hls4ml, axis=1)))\n",
    "accuracy_hls4ml_qkeras = float(accuracy_score(np.argmax(Y_test_reduced, axis=1), np.argmax(y_predict_hls4ml_q, axis=1)))\n",
    "\n",
    "print(\"Accuracy hls4ml Float Keras     : {} %\".format(accuracy_hls4ml_keras*100))\n",
    "print(\"Accuracy hls4ml Quantized QKeras: {} %\".format(accuracy_hls4ml_qkeras*100))\n",
    "#print('Keras accuracy = {} , QKeras 6-bit accuracy = {}'.format(test_score_baseline[1], test_score_qkeras[1]))"
   ]
  },
  {
   "cell_type": "markdown",
   "metadata": {},
   "source": [
    "### Accuracy of Quantized Pruned hls4ml model is as good as Float model, Excellent !!!  "
   ]
  },
  {
   "cell_type": "code",
   "execution_count": null,
   "metadata": {},
   "outputs": [],
   "source": [
    "#chipSkywalker 2024.07.04, there is AttributeError: module 'plotting' has no attribute 'makeRoc' at below def plotROC, \n",
    "# so we copy and modify for hls4ml float pruned model and hls4ml pruned 8bits qmodel ROC/AUC curve\n",
    "import matplotlib.pyplot as plt\n",
    "import pandas as pd\n",
    "from sklearn import metrics\n",
    "\n",
    "\n",
    "labels = ['%i' % nr for nr in range(0, n_classes)]  # If you want to look at all the labels\n",
    "# labels = ['0','1','9'] # Look at only a few labels, here for digits 0, 1 and 9\n",
    "print('Plotting ROC for labels {}'.format(labels))\n",
    "\n",
    "df = pd.DataFrame()\n",
    "df_q = pd.DataFrame()\n",
    "fpr = {}\n",
    "tpr = {}\n",
    "auc1 = {}\n",
    "fpr_q = {}\n",
    "tpr_q = {}\n",
    "auc1_q = {}\n",
    "%matplotlib inline\n",
    "colors = ['#67001f', '#b2182b', '#d6604d', '#f4a582', '#fddbc7', '#d1e5f0', '#92c5de', '#4393c3', '#2166ac', '#053061']\n",
    "fig, ax = plt.subplots(figsize=(10, 10))\n",
    "for i, label in enumerate(labels):\n",
    "    df[label] = Y_test_reduced[:, int(label)]\n",
    "    df[label + '_pred'] = predict_baseline[:, int(label)]\n",
    "    fpr[label], tpr[label], threshold = metrics.roc_curve(df[label], df[label + '_pred'])\n",
    "    auc1[label] = metrics.auc(fpr[label], tpr[label])\n",
    "\n",
    "    df_q[label] = Y_test_reduced[:, int(label)]\n",
    "    df_q[label + '_pred'] = predict_qkeras[:, int(label)]\n",
    "    fpr_q[label], tpr_q[label], threshold_q = metrics.roc_curve(df_q[label], df_q[label + '_pred'])\n",
    "    auc1_q[label] = metrics.auc(fpr_q[label], tpr_q[label])\n",
    "\n",
    "    plt.plot(\n",
    "        fpr[label],\n",
    "        tpr[label],\n",
    "        label=r'{}, AUC hls4ml Keras = {:.1f}% AUC hls4ml QKeras = {:.1f}%)'.format(label, auc1[label] * 100, auc1_q[label] * 100),\n",
    "        linewidth=1.5,\n",
    "        c=colors[i],\n",
    "        linestyle='solid',\n",
    "    )\n",
    "    plt.plot(fpr_q[label], tpr_q[label], linewidth=1.5, c=colors[i], linestyle='dotted')\n",
    "\n",
    "plt.semilogx()\n",
    "plt.ylabel(\"True Positive Rate\")\n",
    "plt.xlabel(\"False Positive Rate\")\n",
    "plt.xlim(0.01, 1.0)\n",
    "plt.ylim(0.5, 1.1)\n",
    "plt.legend(loc='lower right')\n",
    "plt.figtext(\n",
    "    0.2,\n",
    "    0.83,\n",
    "    #r'Accuracy Keras = {:.1f}% QKeras 8-bit = {:.1f}%'.format(test_score_baseline[1] * 100, test_score_qkeras[1] * 100),\n",
    "    r'Accuracy hls4ml Keras = {:.1f}% hls4ml QKeras 8-bit = {:.1f}%'.format(accuracy_hls4ml_keras*100, accuracy_hls4ml_qkeras*100),\n",
    "    wrap=True,\n",
    "    horizontalalignment='left',\n",
    "    verticalalignment='center',\n",
    ")\n",
    "from matplotlib.lines import Line2D\n",
    "\n",
    "lines = [Line2D([0], [0], ls='-'), Line2D([0], [0], ls='--')]\n",
    "from matplotlib.legend import Legend\n",
    "\n",
    "leg = Legend(ax, lines, labels=['Keras', 'QKeras'], loc='lower right', frameon=False)\n",
    "ax.add_artist(leg)"
   ]
  },
  {
   "cell_type": "markdown",
   "metadata": {},
   "source": [
    "Looks good! Let's synthesize the models. \n",
    "## Logic synthesis\n",
    "This takes quite a while for CNN models, up to one hour for the models considered here. In the interest of time, we have therefore provided the neccessary reports for the models considered. You can also synthesize them yourself if you have time, and as usual follow the progress using ``tail -f pruned_cnn/vivado_hls.log`` and ``tail -f quantized_pruned_cnn/vivado_hls.log``.\n",
    "\n",
    "Remember to set your final target part,  eg\n",
    "set part \"xc7z020-clg484-1\" "
   ]
  },
  {
   "cell_type": "code",
   "execution_count": null,
   "metadata": {},
   "outputs": [],
   "source": [
    "import os\n",
    "\n",
    "os.environ['PATH'] = os.environ['XILINX_VIVADO'] + '/bin:' + os.environ['PATH']\n",
    "\n",
    "#synth = False  # Only if you want to synthesize the models yourself (>1h per model) rather than look at the provided reports.\n",
    "synth = True  # Only if you want to synthesize the models yourself (>1h per model) rather than look at the provided reports.\n",
    "\n",
    "if synth:\n",
    "    hls_model.build(csim=False, synth=True, vsynth=True)\n",
    "    hls_model_q.build(csim=False, synth=True, vsynth=True)"
   ]
  },
  {
   "cell_type": "code",
   "execution_count": null,
   "metadata": {},
   "outputs": [],
   "source": [
    "def getReports(indir):\n",
    "    data_ = {}\n",
    "\n",
    "    report_vsynth = Path('{}/vivado_synth.rpt'.format(indir))\n",
    "    report_csynth = Path('{}/myproject_prj/solution1/syn/report/myproject_csynth.rpt'.format(indir))\n",
    "\n",
    "    if report_vsynth.is_file() and report_csynth.is_file():\n",
    "        print('Found valid vsynth and synth in {}! Fetching numbers'.format(indir))\n",
    "\n",
    "        # Get the resources from the logic synthesis report\n",
    "        with report_vsynth.open() as report:\n",
    "            lines = np.array(report.readlines())\n",
    "            #data_['lut'] = int(lines[np.array(['CLB LUTs*' in line for line in lines])][0].split('|')[2])\n",
    "            data_['lut'] = int(lines[np.array(['Slice LUTs*' in line for line in lines])][0].split('|')[2])\n",
    "            #data_['ff'] = int(lines[np.array(['CLB Registers' in line for line in lines])][0].split('|')[2])\n",
    "            data_['ff'] = int(lines[np.array(['Slice Registers' in line for line in lines])][0].split('|')[2])\n",
    "            data_['bram'] = float(lines[np.array(['Block RAM Tile' in line for line in lines])][0].split('|')[2])\n",
    "            data_['dsp'] = int(lines[np.array(['DSPs' in line for line in lines])][0].split('|')[2])\n",
    "            #data_['lut_rel'] = float(lines[np.array(['CLB LUTs*' in line for line in lines])][0].split('|')[5])\n",
    "            data_['lut_Util%'] = float(lines[np.array(['Slice LUTs*' in line for line in lines])][0].split('|')[5])\n",
    "            #data_['ff_rel'] = float(lines[np.array(['CLB Registers' in line for line in lines])][0].split('|')[5])            \n",
    "            data_['ff_Util%'] = float(lines[np.array(['Slice Registers' in line for line in lines])][0].split('|')[5])\n",
    "            data_['bram_Util%'] = float(lines[np.array(['Block RAM Tile' in line for line in lines])][0].split('|')[5])\n",
    "            data_['dsp_Util%'] = float(lines[np.array(['DSPs' in line for line in lines])][0].split('|')[5])\n",
    "\n",
    "        with report_csynth.open() as report:\n",
    "            lines = np.array(report.readlines())\n",
    "            lat_line = lines[np.argwhere(np.array(['Latency (cycles)' in line for line in lines])).flatten()[0] + 3]\n",
    "            data_['latency_clks'] = int(lat_line.split('|')[2])\n",
    "            data_['latency_mus'] = float(lat_line.split('|')[2]) * 5.0 / 1000.0\n",
    "            data_['latency_ii'] = int(lat_line.split('|')[6])\n",
    "\n",
    "    return data_"
   ]
  },
  {
   "cell_type": "code",
   "execution_count": null,
   "metadata": {},
   "outputs": [],
   "source": [
    "from pathlib import Path\n",
    "import pprint\n",
    "\n",
    "data_pruned_ref = getReports('pruned_cnn')\n",
    "print(\"\\n Resource usage and latency: Pruned + Float\")\n",
    "pprint.pprint(data_pruned_ref)\n",
    "\n",
    "#we care more about quantized pruned model hls report\n",
    "data_quantized_pruned = getReports('quantized_pruned_cnn')\n",
    "print(\"\\n Resource usage and latency: Pruned + quantized\")\n",
    "pprint.pprint(data_quantized_pruned)"
   ]
  },
  {
   "cell_type": "code",
   "execution_count": null,
   "metadata": {},
   "outputs": [],
   "source": []
  }
 ],
 "metadata": {
  "accelerator": "GPU",
  "colab": {
   "include_colab_link": true,
   "provenance": []
  },
  "kernelspec": {
   "display_name": "Python 3 (ipykernel)",
   "language": "python",
   "name": "python3"
  },
  "language_info": {
   "codemirror_mode": {
    "name": "ipython",
    "version": 3
   },
   "file_extension": ".py",
   "mimetype": "text/x-python",
   "name": "python",
   "nbconvert_exporter": "python",
   "pygments_lexer": "ipython3",
   "version": "3.10.10"
  }
 },
 "nbformat": 4,
 "nbformat_minor": 4
}
